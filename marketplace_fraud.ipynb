{
  "nbformat": 4,
  "nbformat_minor": 0,
  "metadata": {
    "colab": {
      "provenance": [],
      "toc_visible": true
    },
    "kernelspec": {
      "name": "python3",
      "display_name": "Python 3"
    },
    "language_info": {
      "name": "python"
    }
  },
  "cells": [
    {
      "cell_type": "markdown",
      "source": [
        "# Проведение A/B-теста для принятия решения о внедрении функционала по вычислению мошенников на маркетплейсе"
      ],
      "metadata": {
        "id": "fDC-pFs8Nh2m"
      }
    },
    {
      "cell_type": "markdown",
      "source": [
        "Распространённая и самая известная на рынке схема мошенничества: мошенник берёт данные ИНН из открытых источников, регистрирует на него компанию на площадке маркетплейса. Далее выставляет ходовой товар на продажу, например iPhone 14, на 50% дешевле рынка. Когда покупатель оформляет заказ на маркетплейсе, продавец пишет покупателю, что у него есть другой сайт, где можно купить товар ещё дешевле. Покупатель соглашается и оплачивает заказ по ссылке продавца в обход площадки. После этого продавец пропадает. Покупатель остается без товара. Такие продавцы очень сильно портят репутацию маркетплейса, и необходимо их выявлять как можно быстрее, лучше всего в процессе регистрации.\n",
        "\n",
        "Для этого ML-команда предложила к использованию модель по автоопределению продавцов-мошенников, которую предлагается внедрить в процесс регистрации продавца.\n",
        "\n",
        "Необходимо провести A/B-тест, чтобы проверить качества новой модели."
      ],
      "metadata": {
        "id": "hYqfi1XcNh6q"
      }
    },
    {
      "cell_type": "markdown",
      "source": [
        "Необходимо ответить на следующие **вопросы**:\n",
        "\n",
        "1. Как определить, какой продавец мошенник, а какой — нет? Какие ещё могут быть схемы мошенничества?\n",
        "\n",
        "2. Какие продуктовые фичи могут помочь клиентам избежать неприятных ситуаций с мошенничеством?\n",
        "\n",
        "3. Через какую механику мошенник узнает контакты покупателя? Что можно сделать, чтобы усложнить жизнь фродерам?\n",
        "\n",
        "Также необходимо описать методологию и дизайн теста. Почему сделан такой выбор?\n",
        "\n",
        "1. Определить основную метрику (дополнительные метрики) и принцип разделения на группы.\n",
        "\n",
        "2. Рассчитать, какой эффект можно статистически значимо отследить.\n"
      ],
      "metadata": {
        "id": "FuST1YHcNh9w"
      }
    },
    {
      "cell_type": "markdown",
      "source": [
        "## Содержание"
      ],
      "metadata": {
        "id": "mYW1JQFBNiAu"
      }
    },
    {
      "cell_type": "markdown",
      "source": [
        "Подготовка данных\n",
        "\n",
        "Анализ признаков\n",
        "\n",
        "Ответы на продуктовые вопросы\n",
        "\n",
        "Дизайн теста"
      ],
      "metadata": {
        "id": "AQSaD89hIC2U"
      }
    },
    {
      "cell_type": "markdown",
      "source": [
        "## Подготовка данных"
      ],
      "metadata": {
        "id": "tbvTIwtsTKwr"
      }
    },
    {
      "cell_type": "markdown",
      "source": [
        "Импорт библиотек, которые потребуются для выполнения исследования, и загрузка датасета:"
      ],
      "metadata": {
        "id": "UAikralRTRyb"
      }
    },
    {
      "cell_type": "code",
      "source": [
        "import pandas as pd\n",
        "import matplotlib.pyplot as plt\n",
        "import seaborn as sns\n",
        "import numpy as np\n",
        "from scipy import stats as st\n",
        "import math as mth\n",
        "from scipy import stats\n",
        "import statsmodels.stats.power as smp\n",
        "\n",
        "import warnings\n",
        "warnings.filterwarnings('ignore')"
      ],
      "metadata": {
        "id": "lD4xuFi_Nfnq"
      },
      "execution_count": null,
      "outputs": []
    },
    {
      "cell_type": "code",
      "source": [
        "df = pd.read_csv('fraud.csv', sep=';')"
      ],
      "metadata": {
        "id": "6dQUOvWoNfqR"
      },
      "execution_count": null,
      "outputs": []
    },
    {
      "cell_type": "markdown",
      "source": [
        "Посмотрим на данные в первом приближении:"
      ],
      "metadata": {
        "id": "C1E63KGpTlgT"
      }
    },
    {
      "cell_type": "code",
      "source": [
        "df.head()"
      ],
      "metadata": {
        "colab": {
          "base_uri": "https://localhost:8080/",
          "height": 206
        },
        "id": "000QTCclNfs2",
        "outputId": "21e0129f-4b87-4212-de1f-752eb765cba2"
      },
      "execution_count": null,
      "outputs": [
        {
          "output_type": "execute_result",
          "data": {
            "text/plain": [
              "  registration_date activation_date  merchant_id type  ind_frod\n",
              "0        16.12.2023      24.12.2023            1   IE       0.0\n",
              "1        05.09.2023      08.09.2023            2   IE       0.0\n",
              "2        16.04.2023      22.04.2023            3   IE       0.0\n",
              "3        23.12.2023      24.12.2023            4   IE       0.0\n",
              "4        28.01.2023             NaN            5   IE       0.0"
            ],
            "text/html": [
              "\n",
              "  <div id=\"df-3cb51b0f-172c-4b6b-8f8b-e5e342589508\" class=\"colab-df-container\">\n",
              "    <div>\n",
              "<style scoped>\n",
              "    .dataframe tbody tr th:only-of-type {\n",
              "        vertical-align: middle;\n",
              "    }\n",
              "\n",
              "    .dataframe tbody tr th {\n",
              "        vertical-align: top;\n",
              "    }\n",
              "\n",
              "    .dataframe thead th {\n",
              "        text-align: right;\n",
              "    }\n",
              "</style>\n",
              "<table border=\"1\" class=\"dataframe\">\n",
              "  <thead>\n",
              "    <tr style=\"text-align: right;\">\n",
              "      <th></th>\n",
              "      <th>registration_date</th>\n",
              "      <th>activation_date</th>\n",
              "      <th>merchant_id</th>\n",
              "      <th>type</th>\n",
              "      <th>ind_frod</th>\n",
              "    </tr>\n",
              "  </thead>\n",
              "  <tbody>\n",
              "    <tr>\n",
              "      <th>0</th>\n",
              "      <td>16.12.2023</td>\n",
              "      <td>24.12.2023</td>\n",
              "      <td>1</td>\n",
              "      <td>IE</td>\n",
              "      <td>0.0</td>\n",
              "    </tr>\n",
              "    <tr>\n",
              "      <th>1</th>\n",
              "      <td>05.09.2023</td>\n",
              "      <td>08.09.2023</td>\n",
              "      <td>2</td>\n",
              "      <td>IE</td>\n",
              "      <td>0.0</td>\n",
              "    </tr>\n",
              "    <tr>\n",
              "      <th>2</th>\n",
              "      <td>16.04.2023</td>\n",
              "      <td>22.04.2023</td>\n",
              "      <td>3</td>\n",
              "      <td>IE</td>\n",
              "      <td>0.0</td>\n",
              "    </tr>\n",
              "    <tr>\n",
              "      <th>3</th>\n",
              "      <td>23.12.2023</td>\n",
              "      <td>24.12.2023</td>\n",
              "      <td>4</td>\n",
              "      <td>IE</td>\n",
              "      <td>0.0</td>\n",
              "    </tr>\n",
              "    <tr>\n",
              "      <th>4</th>\n",
              "      <td>28.01.2023</td>\n",
              "      <td>NaN</td>\n",
              "      <td>5</td>\n",
              "      <td>IE</td>\n",
              "      <td>0.0</td>\n",
              "    </tr>\n",
              "  </tbody>\n",
              "</table>\n",
              "</div>\n",
              "    <div class=\"colab-df-buttons\">\n",
              "\n",
              "  <div class=\"colab-df-container\">\n",
              "    <button class=\"colab-df-convert\" onclick=\"convertToInteractive('df-3cb51b0f-172c-4b6b-8f8b-e5e342589508')\"\n",
              "            title=\"Convert this dataframe to an interactive table.\"\n",
              "            style=\"display:none;\">\n",
              "\n",
              "  <svg xmlns=\"http://www.w3.org/2000/svg\" height=\"24px\" viewBox=\"0 -960 960 960\">\n",
              "    <path d=\"M120-120v-720h720v720H120Zm60-500h600v-160H180v160Zm220 220h160v-160H400v160Zm0 220h160v-160H400v160ZM180-400h160v-160H180v160Zm440 0h160v-160H620v160ZM180-180h160v-160H180v160Zm440 0h160v-160H620v160Z\"/>\n",
              "  </svg>\n",
              "    </button>\n",
              "\n",
              "  <style>\n",
              "    .colab-df-container {\n",
              "      display:flex;\n",
              "      gap: 12px;\n",
              "    }\n",
              "\n",
              "    .colab-df-convert {\n",
              "      background-color: #E8F0FE;\n",
              "      border: none;\n",
              "      border-radius: 50%;\n",
              "      cursor: pointer;\n",
              "      display: none;\n",
              "      fill: #1967D2;\n",
              "      height: 32px;\n",
              "      padding: 0 0 0 0;\n",
              "      width: 32px;\n",
              "    }\n",
              "\n",
              "    .colab-df-convert:hover {\n",
              "      background-color: #E2EBFA;\n",
              "      box-shadow: 0px 1px 2px rgba(60, 64, 67, 0.3), 0px 1px 3px 1px rgba(60, 64, 67, 0.15);\n",
              "      fill: #174EA6;\n",
              "    }\n",
              "\n",
              "    .colab-df-buttons div {\n",
              "      margin-bottom: 4px;\n",
              "    }\n",
              "\n",
              "    [theme=dark] .colab-df-convert {\n",
              "      background-color: #3B4455;\n",
              "      fill: #D2E3FC;\n",
              "    }\n",
              "\n",
              "    [theme=dark] .colab-df-convert:hover {\n",
              "      background-color: #434B5C;\n",
              "      box-shadow: 0px 1px 3px 1px rgba(0, 0, 0, 0.15);\n",
              "      filter: drop-shadow(0px 1px 2px rgba(0, 0, 0, 0.3));\n",
              "      fill: #FFFFFF;\n",
              "    }\n",
              "  </style>\n",
              "\n",
              "    <script>\n",
              "      const buttonEl =\n",
              "        document.querySelector('#df-3cb51b0f-172c-4b6b-8f8b-e5e342589508 button.colab-df-convert');\n",
              "      buttonEl.style.display =\n",
              "        google.colab.kernel.accessAllowed ? 'block' : 'none';\n",
              "\n",
              "      async function convertToInteractive(key) {\n",
              "        const element = document.querySelector('#df-3cb51b0f-172c-4b6b-8f8b-e5e342589508');\n",
              "        const dataTable =\n",
              "          await google.colab.kernel.invokeFunction('convertToInteractive',\n",
              "                                                    [key], {});\n",
              "        if (!dataTable) return;\n",
              "\n",
              "        const docLinkHtml = 'Like what you see? Visit the ' +\n",
              "          '<a target=\"_blank\" href=https://colab.research.google.com/notebooks/data_table.ipynb>data table notebook</a>'\n",
              "          + ' to learn more about interactive tables.';\n",
              "        element.innerHTML = '';\n",
              "        dataTable['output_type'] = 'display_data';\n",
              "        await google.colab.output.renderOutput(dataTable, element);\n",
              "        const docLink = document.createElement('div');\n",
              "        docLink.innerHTML = docLinkHtml;\n",
              "        element.appendChild(docLink);\n",
              "      }\n",
              "    </script>\n",
              "  </div>\n",
              "\n",
              "\n",
              "<div id=\"df-d5dfde9c-f051-4ef8-a812-e18961fc9192\">\n",
              "  <button class=\"colab-df-quickchart\" onclick=\"quickchart('df-d5dfde9c-f051-4ef8-a812-e18961fc9192')\"\n",
              "            title=\"Suggest charts\"\n",
              "            style=\"display:none;\">\n",
              "\n",
              "<svg xmlns=\"http://www.w3.org/2000/svg\" height=\"24px\"viewBox=\"0 0 24 24\"\n",
              "     width=\"24px\">\n",
              "    <g>\n",
              "        <path d=\"M19 3H5c-1.1 0-2 .9-2 2v14c0 1.1.9 2 2 2h14c1.1 0 2-.9 2-2V5c0-1.1-.9-2-2-2zM9 17H7v-7h2v7zm4 0h-2V7h2v10zm4 0h-2v-4h2v4z\"/>\n",
              "    </g>\n",
              "</svg>\n",
              "  </button>\n",
              "\n",
              "<style>\n",
              "  .colab-df-quickchart {\n",
              "      --bg-color: #E8F0FE;\n",
              "      --fill-color: #1967D2;\n",
              "      --hover-bg-color: #E2EBFA;\n",
              "      --hover-fill-color: #174EA6;\n",
              "      --disabled-fill-color: #AAA;\n",
              "      --disabled-bg-color: #DDD;\n",
              "  }\n",
              "\n",
              "  [theme=dark] .colab-df-quickchart {\n",
              "      --bg-color: #3B4455;\n",
              "      --fill-color: #D2E3FC;\n",
              "      --hover-bg-color: #434B5C;\n",
              "      --hover-fill-color: #FFFFFF;\n",
              "      --disabled-bg-color: #3B4455;\n",
              "      --disabled-fill-color: #666;\n",
              "  }\n",
              "\n",
              "  .colab-df-quickchart {\n",
              "    background-color: var(--bg-color);\n",
              "    border: none;\n",
              "    border-radius: 50%;\n",
              "    cursor: pointer;\n",
              "    display: none;\n",
              "    fill: var(--fill-color);\n",
              "    height: 32px;\n",
              "    padding: 0;\n",
              "    width: 32px;\n",
              "  }\n",
              "\n",
              "  .colab-df-quickchart:hover {\n",
              "    background-color: var(--hover-bg-color);\n",
              "    box-shadow: 0 1px 2px rgba(60, 64, 67, 0.3), 0 1px 3px 1px rgba(60, 64, 67, 0.15);\n",
              "    fill: var(--button-hover-fill-color);\n",
              "  }\n",
              "\n",
              "  .colab-df-quickchart-complete:disabled,\n",
              "  .colab-df-quickchart-complete:disabled:hover {\n",
              "    background-color: var(--disabled-bg-color);\n",
              "    fill: var(--disabled-fill-color);\n",
              "    box-shadow: none;\n",
              "  }\n",
              "\n",
              "  .colab-df-spinner {\n",
              "    border: 2px solid var(--fill-color);\n",
              "    border-color: transparent;\n",
              "    border-bottom-color: var(--fill-color);\n",
              "    animation:\n",
              "      spin 1s steps(1) infinite;\n",
              "  }\n",
              "\n",
              "  @keyframes spin {\n",
              "    0% {\n",
              "      border-color: transparent;\n",
              "      border-bottom-color: var(--fill-color);\n",
              "      border-left-color: var(--fill-color);\n",
              "    }\n",
              "    20% {\n",
              "      border-color: transparent;\n",
              "      border-left-color: var(--fill-color);\n",
              "      border-top-color: var(--fill-color);\n",
              "    }\n",
              "    30% {\n",
              "      border-color: transparent;\n",
              "      border-left-color: var(--fill-color);\n",
              "      border-top-color: var(--fill-color);\n",
              "      border-right-color: var(--fill-color);\n",
              "    }\n",
              "    40% {\n",
              "      border-color: transparent;\n",
              "      border-right-color: var(--fill-color);\n",
              "      border-top-color: var(--fill-color);\n",
              "    }\n",
              "    60% {\n",
              "      border-color: transparent;\n",
              "      border-right-color: var(--fill-color);\n",
              "    }\n",
              "    80% {\n",
              "      border-color: transparent;\n",
              "      border-right-color: var(--fill-color);\n",
              "      border-bottom-color: var(--fill-color);\n",
              "    }\n",
              "    90% {\n",
              "      border-color: transparent;\n",
              "      border-bottom-color: var(--fill-color);\n",
              "    }\n",
              "  }\n",
              "</style>\n",
              "\n",
              "  <script>\n",
              "    async function quickchart(key) {\n",
              "      const quickchartButtonEl =\n",
              "        document.querySelector('#' + key + ' button');\n",
              "      quickchartButtonEl.disabled = true;  // To prevent multiple clicks.\n",
              "      quickchartButtonEl.classList.add('colab-df-spinner');\n",
              "      try {\n",
              "        const charts = await google.colab.kernel.invokeFunction(\n",
              "            'suggestCharts', [key], {});\n",
              "      } catch (error) {\n",
              "        console.error('Error during call to suggestCharts:', error);\n",
              "      }\n",
              "      quickchartButtonEl.classList.remove('colab-df-spinner');\n",
              "      quickchartButtonEl.classList.add('colab-df-quickchart-complete');\n",
              "    }\n",
              "    (() => {\n",
              "      let quickchartButtonEl =\n",
              "        document.querySelector('#df-d5dfde9c-f051-4ef8-a812-e18961fc9192 button');\n",
              "      quickchartButtonEl.style.display =\n",
              "        google.colab.kernel.accessAllowed ? 'block' : 'none';\n",
              "    })();\n",
              "  </script>\n",
              "</div>\n",
              "    </div>\n",
              "  </div>\n"
            ],
            "application/vnd.google.colaboratory.intrinsic+json": {
              "type": "dataframe",
              "variable_name": "df",
              "summary": "{\n  \"name\": \"df\",\n  \"rows\": 35000,\n  \"fields\": [\n    {\n      \"column\": \"registration_date\",\n      \"properties\": {\n        \"dtype\": \"object\",\n        \"num_unique_values\": 365,\n        \"samples\": [\n          \"15.09.2023\",\n          \"18.03.2023\",\n          \"11.07.2023\"\n        ],\n        \"semantic_type\": \"\",\n        \"description\": \"\"\n      }\n    },\n    {\n      \"column\": \"activation_date\",\n      \"properties\": {\n        \"dtype\": \"object\",\n        \"num_unique_values\": 380,\n        \"samples\": [\n          \"21.03.2023\",\n          \"22.08.2023\",\n          \"08.07.2023\"\n        ],\n        \"semantic_type\": \"\",\n        \"description\": \"\"\n      }\n    },\n    {\n      \"column\": \"merchant_id\",\n      \"properties\": {\n        \"dtype\": \"number\",\n        \"std\": 10103,\n        \"min\": 1,\n        \"max\": 35000,\n        \"num_unique_values\": 35000,\n        \"samples\": [\n          17814,\n          6858,\n          7673\n        ],\n        \"semantic_type\": \"\",\n        \"description\": \"\"\n      }\n    },\n    {\n      \"column\": \"type\",\n      \"properties\": {\n        \"dtype\": \"category\",\n        \"num_unique_values\": 2,\n        \"samples\": [\n          \"LLC\",\n          \"IE\"\n        ],\n        \"semantic_type\": \"\",\n        \"description\": \"\"\n      }\n    },\n    {\n      \"column\": \"ind_frod\",\n      \"properties\": {\n        \"dtype\": \"number\",\n        \"std\": 0.27505154243006313,\n        \"min\": 0.0,\n        \"max\": 1.0,\n        \"num_unique_values\": 2,\n        \"samples\": [\n          1.0,\n          0.0\n        ],\n        \"semantic_type\": \"\",\n        \"description\": \"\"\n      }\n    }\n  ]\n}"
            }
          },
          "metadata": {},
          "execution_count": 3
        }
      ]
    },
    {
      "cell_type": "code",
      "source": [
        "df.info()"
      ],
      "metadata": {
        "colab": {
          "base_uri": "https://localhost:8080/"
        },
        "id": "sHWoubnANfvg",
        "outputId": "820bb672-7a12-45b6-abbe-0988e6ff2f53"
      },
      "execution_count": null,
      "outputs": [
        {
          "output_type": "stream",
          "name": "stdout",
          "text": [
            "<class 'pandas.core.frame.DataFrame'>\n",
            "RangeIndex: 35000 entries, 0 to 34999\n",
            "Data columns (total 5 columns):\n",
            " #   Column             Non-Null Count  Dtype  \n",
            "---  ------             --------------  -----  \n",
            " 0   registration_date  35000 non-null  object \n",
            " 1   activation_date    20300 non-null  object \n",
            " 2   merchant_id        35000 non-null  int64  \n",
            " 3   type               35000 non-null  object \n",
            " 4   ind_frod           34300 non-null  float64\n",
            "dtypes: float64(1), int64(1), object(3)\n",
            "memory usage: 1.3+ MB\n"
          ]
        }
      ]
    },
    {
      "cell_type": "markdown",
      "source": [
        "Названия признаков:\n",
        "  - **registration_date** - дата регистрации (дата получения merchant_id, продавец зарегистрировался на площадке);\n",
        "  - **activation_date** - дата активации (продавец прошел все этапы регистрации и может продавать);\n",
        "  - **merchant_id** - id продавца;\n",
        "  - **type** - форма организации бизнеса (IE - индивидуальный предприниматель, LLC - общество с ограниченной ответственностью);\n",
        "  - **ind_frod** - индекс мошенника (1- мошенник, 0 - добросовестный продавец)."
      ],
      "metadata": {
        "id": "Q4kUKtBET6l-"
      }
    },
    {
      "cell_type": "markdown",
      "source": [
        "В датасете содержатся данные о 35000 продавцах и 5 признаках. В столбцах **activation_date** и **ind_frod** есть пропуски."
      ],
      "metadata": {
        "id": "hRwXJXpvU6ZR"
      }
    },
    {
      "cell_type": "markdown",
      "source": [
        "Полных дубликатов в датафрейме нет:"
      ],
      "metadata": {
        "id": "XozIcSpBVLkn"
      }
    },
    {
      "cell_type": "code",
      "source": [
        "df.duplicated().sum()"
      ],
      "metadata": {
        "colab": {
          "base_uri": "https://localhost:8080/"
        },
        "id": "PKGDI9nMNfyF",
        "outputId": "357dfff4-c594-4d45-b0f6-593d13be0e9a"
      },
      "execution_count": null,
      "outputs": [
        {
          "output_type": "execute_result",
          "data": {
            "text/plain": [
              "0"
            ]
          },
          "metadata": {},
          "execution_count": 5
        }
      ]
    },
    {
      "cell_type": "markdown",
      "source": [
        "## Анализ признаков"
      ],
      "metadata": {
        "id": "8VaD4tINVPiQ"
      }
    },
    {
      "cell_type": "markdown",
      "source": [
        "Теперь рассмотрим признаки по отдельности."
      ],
      "metadata": {
        "id": "iDDXcVUwVScu"
      }
    },
    {
      "cell_type": "markdown",
      "source": [
        "**merchant_id** - id продавца"
      ],
      "metadata": {
        "id": "Oc9BeTqqssQg"
      }
    },
    {
      "cell_type": "code",
      "source": [
        "df['merchant_id'].nunique()"
      ],
      "metadata": {
        "colab": {
          "base_uri": "https://localhost:8080/"
        },
        "id": "bM4r1MxRsyKT",
        "outputId": "6a828e52-40a5-4302-cdcc-1871447ba896"
      },
      "execution_count": null,
      "outputs": [
        {
          "output_type": "execute_result",
          "data": {
            "text/plain": [
              "35000"
            ]
          },
          "metadata": {},
          "execution_count": 6
        }
      ]
    },
    {
      "cell_type": "markdown",
      "source": [
        "Дубликаты id в столбце отсутствуют."
      ],
      "metadata": {
        "id": "iK7Zb4p8s7GK"
      }
    },
    {
      "cell_type": "markdown",
      "source": [
        "**registration_date** - дата регистрации"
      ],
      "metadata": {
        "id": "Ht9ZFmONXkSX"
      }
    },
    {
      "cell_type": "markdown",
      "source": [
        "Приведем к временному типу:"
      ],
      "metadata": {
        "id": "aC0YTac3Y_gv"
      }
    },
    {
      "cell_type": "code",
      "source": [
        "df['registration_date'] = pd.to_datetime(df['registration_date'],format='%d.%m.%Y')"
      ],
      "metadata": {
        "id": "U3xiDhxcYojw"
      },
      "execution_count": null,
      "outputs": []
    },
    {
      "cell_type": "code",
      "source": [
        "df['registration_date'].agg(['min','max'])"
      ],
      "metadata": {
        "colab": {
          "base_uri": "https://localhost:8080/"
        },
        "id": "RDNSVMI-Yoqk",
        "outputId": "f488d2ad-c890-42d2-d85c-cde536ebd7df"
      },
      "execution_count": null,
      "outputs": [
        {
          "output_type": "execute_result",
          "data": {
            "text/plain": [
              "min   1970-01-01\n",
              "max   2023-12-31\n",
              "Name: registration_date, dtype: datetime64[ns]"
            ]
          },
          "metadata": {},
          "execution_count": 8
        }
      ]
    },
    {
      "cell_type": "markdown",
      "source": [
        "В датафрейме встречается неожиданное временное значение - 01.01.1970. Вероятно, по таким клиентам информация о дате регистрации отсуствует (если в поле даты хранится целочисленный ноль, то подтягивается значение '1970-01-01'). Вообще говоря, Мегамаркет был создан на базе платформы Goods.ru в 2017 году, поэтому в базе не должно быть никаких клиентов с датой регистрации ранее 2017 года. Проверим, есть ли такие:"
      ],
      "metadata": {
        "id": "0kxzmZ3gZ88B"
      }
    },
    {
      "cell_type": "code",
      "source": [
        "df.query('registration_date < \"2017-01-01\"')['merchant_id'].count()"
      ],
      "metadata": {
        "colab": {
          "base_uri": "https://localhost:8080/"
        },
        "id": "1mdVklxmYot6",
        "outputId": "bf5f62da-296c-4ab5-ebe2-b0b792a13236"
      },
      "execution_count": null,
      "outputs": [
        {
          "output_type": "execute_result",
          "data": {
            "text/plain": [
              "175"
            ]
          },
          "metadata": {},
          "execution_count": 9
        }
      ]
    },
    {
      "cell_type": "markdown",
      "source": [
        "Таких клиентов 175 человек (0,5% датасета). Посмотрим, сколько среди них мошенников:"
      ],
      "metadata": {
        "id": "ZiOgZZSlapTm"
      }
    },
    {
      "cell_type": "code",
      "source": [
        "df.query('registration_date < \"2017-01-01\" & ind_frod == 1')['merchant_id'].count()"
      ],
      "metadata": {
        "colab": {
          "base_uri": "https://localhost:8080/"
        },
        "id": "pYZuq2-tRDkE",
        "outputId": "1808ae78-74f0-40e8-8f1d-69b43e812304"
      },
      "execution_count": null,
      "outputs": [
        {
          "output_type": "execute_result",
          "data": {
            "text/plain": [
              "14"
            ]
          },
          "metadata": {},
          "execution_count": 10
        }
      ]
    },
    {
      "cell_type": "code",
      "source": [
        "df.query('ind_frod == 1')['merchant_id'].count()"
      ],
      "metadata": {
        "colab": {
          "base_uri": "https://localhost:8080/"
        },
        "id": "ajJfx9nHRSJJ",
        "outputId": "d1e909cf-3454-4e8e-a696-3c26da69b6c5"
      },
      "execution_count": null,
      "outputs": [
        {
          "output_type": "execute_result",
          "data": {
            "text/plain": [
              "2828"
            ]
          },
          "metadata": {},
          "execution_count": 11
        }
      ]
    },
    {
      "cell_type": "markdown",
      "source": [
        "Всего мошенников в датасете 2828, так что удаление записей с некорректной датой регистрации не должно повлиять на дальнейшие выводы."
      ],
      "metadata": {
        "id": "0-ugxK8ARpvq"
      }
    },
    {
      "cell_type": "code",
      "source": [
        "df = df.loc[(df['registration_date'] != \"1970-01-01\")]"
      ],
      "metadata": {
        "id": "AFca-P0kRDsn"
      },
      "execution_count": null,
      "outputs": []
    },
    {
      "cell_type": "code",
      "source": [
        "df.info()"
      ],
      "metadata": {
        "colab": {
          "base_uri": "https://localhost:8080/"
        },
        "id": "jdVWya-2R-u0",
        "outputId": "e18a46a7-c7a8-46c8-c8a1-366056f72dfb"
      },
      "execution_count": null,
      "outputs": [
        {
          "output_type": "stream",
          "name": "stdout",
          "text": [
            "<class 'pandas.core.frame.DataFrame'>\n",
            "Index: 34825 entries, 0 to 34999\n",
            "Data columns (total 5 columns):\n",
            " #   Column             Non-Null Count  Dtype         \n",
            "---  ------             --------------  -----         \n",
            " 0   registration_date  34825 non-null  datetime64[ns]\n",
            " 1   activation_date    20214 non-null  object        \n",
            " 2   merchant_id        34825 non-null  int64         \n",
            " 3   type               34825 non-null  object        \n",
            " 4   ind_frod           34127 non-null  float64       \n",
            "dtypes: datetime64[ns](1), float64(1), int64(1), object(2)\n",
            "memory usage: 1.6+ MB\n"
          ]
        }
      ]
    },
    {
      "cell_type": "code",
      "source": [
        "df['registration_date'].agg(['min','max'])"
      ],
      "metadata": {
        "colab": {
          "base_uri": "https://localhost:8080/"
        },
        "id": "Wxf6_6CCZbjd",
        "outputId": "7f2ae550-d322-48ec-d574-a8183a5be6aa"
      },
      "execution_count": null,
      "outputs": [
        {
          "output_type": "execute_result",
          "data": {
            "text/plain": [
              "min   2023-01-02\n",
              "max   2023-12-31\n",
              "Name: registration_date, dtype: datetime64[ns]"
            ]
          },
          "metadata": {},
          "execution_count": 14
        }
      ]
    },
    {
      "cell_type": "markdown",
      "source": [
        "Основная масса клиентов регистрировалась с 02.01.2023 по 31.12.2023."
      ],
      "metadata": {
        "id": "LITQeqFXcMQg"
      }
    },
    {
      "cell_type": "code",
      "source": [
        "n_reg = df.groupby('registration_date').agg({'merchant_id':'nunique'}).reset_index().rename(columns = {'merchant_id': 'n'})"
      ],
      "metadata": {
        "id": "Nr78OtR8dmY0"
      },
      "execution_count": null,
      "outputs": []
    },
    {
      "cell_type": "code",
      "source": [
        "n_reg.plot(x='registration_date', y='n', grid=True, figsize=(16,5), legend=False)\n",
        "plt.xlabel('дата')\n",
        "plt.ylabel('число регистраций')\n",
        "plt.show()"
      ],
      "metadata": {
        "colab": {
          "base_uri": "https://localhost:8080/",
          "height": 481
        },
        "id": "lCRkeNnYZbp8",
        "outputId": "d20f6a90-4bec-4cb2-8356-ddf423d755ad"
      },
      "execution_count": null,
      "outputs": [
        {
          "output_type": "display_data",
          "data": {
            "text/plain": [
              "<Figure size 1600x500 with 1 Axes>"
            ],
            "image/png": "[encoded data removed]"
          },
          "metadata": {}
        }
      ]
    },
    {
      "cell_type": "code",
      "source": [
        "n_reg['n'].agg(['mean','median'])"
      ],
      "metadata": {
        "colab": {
          "base_uri": "https://localhost:8080/"
        },
        "id": "CVG7QGH0oYD8",
        "outputId": "d5c85708-5ccd-48fc-e89c-4fa7dae67028"
      },
      "execution_count": null,
      "outputs": [
        {
          "output_type": "execute_result",
          "data": {
            "text/plain": [
              "mean      95.673077\n",
              "median    96.000000\n",
              "Name: n, dtype: float64"
            ]
          },
          "metadata": {},
          "execution_count": 17
        }
      ]
    },
    {
      "cell_type": "markdown",
      "source": [
        "Как правило, в день регистрируется от 80 до 110 пользователей, среднее практически совпадает с медианой - 96 человек."
      ],
      "metadata": {
        "id": "zAdQENVroTxV"
      }
    },
    {
      "cell_type": "markdown",
      "source": [
        "Выделим в исходном датафрейме в отдельные столбцы год, месяц и неделю, а также день недели:"
      ],
      "metadata": {
        "id": "3_qaVxP_qXJY"
      }
    },
    {
      "cell_type": "code",
      "source": [
        "df['reg_month'] = df['registration_date'].dt.month\n",
        "df['reg_weekday'] = df['registration_date'].dt.weekday\n",
        "display(df.head())"
      ],
      "metadata": {
        "colab": {
          "base_uri": "https://localhost:8080/",
          "height": 206
        },
        "id": "M26qicEKoS3I",
        "outputId": "07eb1d84-6a12-4abe-f409-98d6cd4e01f0"
      },
      "execution_count": null,
      "outputs": [
        {
          "output_type": "display_data",
          "data": {
            "text/plain": [
              "  registration_date activation_date  merchant_id type  ind_frod  reg_month  \\\n",
              "0        2023-12-16      24.12.2023            1   IE       0.0         12   \n",
              "1        2023-09-05      08.09.2023            2   IE       0.0          9   \n",
              "2        2023-04-16      22.04.2023            3   IE       0.0          4   \n",
              "3        2023-12-23      24.12.2023            4   IE       0.0         12   \n",
              "4        2023-01-28             NaN            5   IE       0.0          1   \n",
              "\n",
              "   reg_weekday  \n",
              "0            5  \n",
              "1            1  \n",
              "2            6  \n",
              "3            5  \n",
              "4            5  "
            ],
            "text/html": [
              "\n",
              "  <div id=\"df-b88b8d8f-f976-4335-a4aa-2c0c47de9099\" class=\"colab-df-container\">\n",
              "    <div>\n",
              "<style scoped>\n",
              "    .dataframe tbody tr th:only-of-type {\n",
              "        vertical-align: middle;\n",
              "    }\n",
              "\n",
              "    .dataframe tbody tr th {\n",
              "        vertical-align: top;\n",
              "    }\n",
              "\n",
              "    .dataframe thead th {\n",
              "        text-align: right;\n",
              "    }\n",
              "</style>\n",
              "<table border=\"1\" class=\"dataframe\">\n",
              "  <thead>\n",
              "    <tr style=\"text-align: right;\">\n",
              "      <th></th>\n",
              "      <th>registration_date</th>\n",
              "      <th>activation_date</th>\n",
              "      <th>merchant_id</th>\n",
              "      <th>type</th>\n",
              "      <th>ind_frod</th>\n",
              "      <th>reg_month</th>\n",
              "      <th>reg_weekday</th>\n",
              "    </tr>\n",
              "  </thead>\n",
              "  <tbody>\n",
              "    <tr>\n",
              "      <th>0</th>\n",
              "      <td>2023-12-16</td>\n",
              "      <td>24.12.2023</td>\n",
              "      <td>1</td>\n",
              "      <td>IE</td>\n",
              "      <td>0.0</td>\n",
              "      <td>12</td>\n",
              "      <td>5</td>\n",
              "    </tr>\n",
              "    <tr>\n",
              "      <th>1</th>\n",
              "      <td>2023-09-05</td>\n",
              "      <td>08.09.2023</td>\n",
              "      <td>2</td>\n",
              "      <td>IE</td>\n",
              "      <td>0.0</td>\n",
              "      <td>9</td>\n",
              "      <td>1</td>\n",
              "    </tr>\n",
              "    <tr>\n",
              "      <th>2</th>\n",
              "      <td>2023-04-16</td>\n",
              "      <td>22.04.2023</td>\n",
              "      <td>3</td>\n",
              "      <td>IE</td>\n",
              "      <td>0.0</td>\n",
              "      <td>4</td>\n",
              "      <td>6</td>\n",
              "    </tr>\n",
              "    <tr>\n",
              "      <th>3</th>\n",
              "      <td>2023-12-23</td>\n",
              "      <td>24.12.2023</td>\n",
              "      <td>4</td>\n",
              "      <td>IE</td>\n",
              "      <td>0.0</td>\n",
              "      <td>12</td>\n",
              "      <td>5</td>\n",
              "    </tr>\n",
              "    <tr>\n",
              "      <th>4</th>\n",
              "      <td>2023-01-28</td>\n",
              "      <td>NaN</td>\n",
              "      <td>5</td>\n",
              "      <td>IE</td>\n",
              "      <td>0.0</td>\n",
              "      <td>1</td>\n",
              "      <td>5</td>\n",
              "    </tr>\n",
              "  </tbody>\n",
              "</table>\n",
              "</div>\n",
              "    <div class=\"colab-df-buttons\">\n",
              "\n",
              "  <div class=\"colab-df-container\">\n",
              "    <button class=\"colab-df-convert\" onclick=\"convertToInteractive('df-b88b8d8f-f976-4335-a4aa-2c0c47de9099')\"\n",
              "            title=\"Convert this dataframe to an interactive table.\"\n",
              "            style=\"display:none;\">\n",
              "\n",
              "  <svg xmlns=\"http://www.w3.org/2000/svg\" height=\"24px\" viewBox=\"0 -960 960 960\">\n",
              "    <path d=\"M120-120v-720h720v720H120Zm60-500h600v-160H180v160Zm220 220h160v-160H400v160Zm0 220h160v-160H400v160ZM180-400h160v-160H180v160Zm440 0h160v-160H620v160ZM180-180h160v-160H180v160Zm440 0h160v-160H620v160Z\"/>\n",
              "  </svg>\n",
              "    </button>\n",
              "\n",
              "  <style>\n",
              "    .colab-df-container {\n",
              "      display:flex;\n",
              "      gap: 12px;\n",
              "    }\n",
              "\n",
              "    .colab-df-convert {\n",
              "      background-color: #E8F0FE;\n",
              "      border: none;\n",
              "      border-radius: 50%;\n",
              "      cursor: pointer;\n",
              "      display: none;\n",
              "      fill: #1967D2;\n",
              "      height: 32px;\n",
              "      padding: 0 0 0 0;\n",
              "      width: 32px;\n",
              "    }\n",
              "\n",
              "    .colab-df-convert:hover {\n",
              "      background-color: #E2EBFA;\n",
              "      box-shadow: 0px 1px 2px rgba(60, 64, 67, 0.3), 0px 1px 3px 1px rgba(60, 64, 67, 0.15);\n",
              "      fill: #174EA6;\n",
              "    }\n",
              "\n",
              "    .colab-df-buttons div {\n",
              "      margin-bottom: 4px;\n",
              "    }\n",
              "\n",
              "    [theme=dark] .colab-df-convert {\n",
              "      background-color: #3B4455;\n",
              "      fill: #D2E3FC;\n",
              "    }\n",
              "\n",
              "    [theme=dark] .colab-df-convert:hover {\n",
              "      background-color: #434B5C;\n",
              "      box-shadow: 0px 1px 3px 1px rgba(0, 0, 0, 0.15);\n",
              "      filter: drop-shadow(0px 1px 2px rgba(0, 0, 0, 0.3));\n",
              "      fill: #FFFFFF;\n",
              "    }\n",
              "  </style>\n",
              "\n",
              "    <script>\n",
              "      const buttonEl =\n",
              "        document.querySelector('#df-b88b8d8f-f976-4335-a4aa-2c0c47de9099 button.colab-df-convert');\n",
              "      buttonEl.style.display =\n",
              "        google.colab.kernel.accessAllowed ? 'block' : 'none';\n",
              "\n",
              "      async function convertToInteractive(key) {\n",
              "        const element = document.querySelector('#df-b88b8d8f-f976-4335-a4aa-2c0c47de9099');\n",
              "        const dataTable =\n",
              "          await google.colab.kernel.invokeFunction('convertToInteractive',\n",
              "                                                    [key], {});\n",
              "        if (!dataTable) return;\n",
              "\n",
              "        const docLinkHtml = 'Like what you see? Visit the ' +\n",
              "          '<a target=\"_blank\" href=https://colab.research.google.com/notebooks/data_table.ipynb>data table notebook</a>'\n",
              "          + ' to learn more about interactive tables.';\n",
              "        element.innerHTML = '';\n",
              "        dataTable['output_type'] = 'display_data';\n",
              "        await google.colab.output.renderOutput(dataTable, element);\n",
              "        const docLink = document.createElement('div');\n",
              "        docLink.innerHTML = docLinkHtml;\n",
              "        element.appendChild(docLink);\n",
              "      }\n",
              "    </script>\n",
              "  </div>\n",
              "\n",
              "\n",
              "<div id=\"df-c123e8ab-bf99-4d6a-887f-6a9586839ebe\">\n",
              "  <button class=\"colab-df-quickchart\" onclick=\"quickchart('df-c123e8ab-bf99-4d6a-887f-6a9586839ebe')\"\n",
              "            title=\"Suggest charts\"\n",
              "            style=\"display:none;\">\n",
              "\n",
              "<svg xmlns=\"http://www.w3.org/2000/svg\" height=\"24px\"viewBox=\"0 0 24 24\"\n",
              "     width=\"24px\">\n",
              "    <g>\n",
              "        <path d=\"M19 3H5c-1.1 0-2 .9-2 2v14c0 1.1.9 2 2 2h14c1.1 0 2-.9 2-2V5c0-1.1-.9-2-2-2zM9 17H7v-7h2v7zm4 0h-2V7h2v10zm4 0h-2v-4h2v4z\"/>\n",
              "    </g>\n",
              "</svg>\n",
              "  </button>\n",
              "\n",
              "<style>\n",
              "  .colab-df-quickchart {\n",
              "      --bg-color: #E8F0FE;\n",
              "      --fill-color: #1967D2;\n",
              "      --hover-bg-color: #E2EBFA;\n",
              "      --hover-fill-color: #174EA6;\n",
              "      --disabled-fill-color: #AAA;\n",
              "      --disabled-bg-color: #DDD;\n",
              "  }\n",
              "\n",
              "  [theme=dark] .colab-df-quickchart {\n",
              "      --bg-color: #3B4455;\n",
              "      --fill-color: #D2E3FC;\n",
              "      --hover-bg-color: #434B5C;\n",
              "      --hover-fill-color: #FFFFFF;\n",
              "      --disabled-bg-color: #3B4455;\n",
              "      --disabled-fill-color: #666;\n",
              "  }\n",
              "\n",
              "  .colab-df-quickchart {\n",
              "    background-color: var(--bg-color);\n",
              "    border: none;\n",
              "    border-radius: 50%;\n",
              "    cursor: pointer;\n",
              "    display: none;\n",
              "    fill: var(--fill-color);\n",
              "    height: 32px;\n",
              "    padding: 0;\n",
              "    width: 32px;\n",
              "  }\n",
              "\n",
              "  .colab-df-quickchart:hover {\n",
              "    background-color: var(--hover-bg-color);\n",
              "    box-shadow: 0 1px 2px rgba(60, 64, 67, 0.3), 0 1px 3px 1px rgba(60, 64, 67, 0.15);\n",
              "    fill: var(--button-hover-fill-color);\n",
              "  }\n",
              "\n",
              "  .colab-df-quickchart-complete:disabled,\n",
              "  .colab-df-quickchart-complete:disabled:hover {\n",
              "    background-color: var(--disabled-bg-color);\n",
              "    fill: var(--disabled-fill-color);\n",
              "    box-shadow: none;\n",
              "  }\n",
              "\n",
              "  .colab-df-spinner {\n",
              "    border: 2px solid var(--fill-color);\n",
              "    border-color: transparent;\n",
              "    border-bottom-color: var(--fill-color);\n",
              "    animation:\n",
              "      spin 1s steps(1) infinite;\n",
              "  }\n",
              "\n",
              "  @keyframes spin {\n",
              "    0% {\n",
              "      border-color: transparent;\n",
              "      border-bottom-color: var(--fill-color);\n",
              "      border-left-color: var(--fill-color);\n",
              "    }\n",
              "    20% {\n",
              "      border-color: transparent;\n",
              "      border-left-color: var(--fill-color);\n",
              "      border-top-color: var(--fill-color);\n",
              "    }\n",
              "    30% {\n",
              "      border-color: transparent;\n",
              "      border-left-color: var(--fill-color);\n",
              "      border-top-color: var(--fill-color);\n",
              "      border-right-color: var(--fill-color);\n",
              "    }\n",
              "    40% {\n",
              "      border-color: transparent;\n",
              "      border-right-color: var(--fill-color);\n",
              "      border-top-color: var(--fill-color);\n",
              "    }\n",
              "    60% {\n",
              "      border-color: transparent;\n",
              "      border-right-color: var(--fill-color);\n",
              "    }\n",
              "    80% {\n",
              "      border-color: transparent;\n",
              "      border-right-color: var(--fill-color);\n",
              "      border-bottom-color: var(--fill-color);\n",
              "    }\n",
              "    90% {\n",
              "      border-color: transparent;\n",
              "      border-bottom-color: var(--fill-color);\n",
              "    }\n",
              "  }\n",
              "</style>\n",
              "\n",
              "  <script>\n",
              "    async function quickchart(key) {\n",
              "      const quickchartButtonEl =\n",
              "        document.querySelector('#' + key + ' button');\n",
              "      quickchartButtonEl.disabled = true;  // To prevent multiple clicks.\n",
              "      quickchartButtonEl.classList.add('colab-df-spinner');\n",
              "      try {\n",
              "        const charts = await google.colab.kernel.invokeFunction(\n",
              "            'suggestCharts', [key], {});\n",
              "      } catch (error) {\n",
              "        console.error('Error during call to suggestCharts:', error);\n",
              "      }\n",
              "      quickchartButtonEl.classList.remove('colab-df-spinner');\n",
              "      quickchartButtonEl.classList.add('colab-df-quickchart-complete');\n",
              "    }\n",
              "    (() => {\n",
              "      let quickchartButtonEl =\n",
              "        document.querySelector('#df-c123e8ab-bf99-4d6a-887f-6a9586839ebe button');\n",
              "      quickchartButtonEl.style.display =\n",
              "        google.colab.kernel.accessAllowed ? 'block' : 'none';\n",
              "    })();\n",
              "  </script>\n",
              "</div>\n",
              "    </div>\n",
              "  </div>\n"
            ],
            "application/vnd.google.colaboratory.intrinsic+json": {
              "type": "dataframe",
              "summary": "{\n  \"name\": \"display(df\",\n  \"rows\": 5,\n  \"fields\": [\n    {\n      \"column\": \"registration_date\",\n      \"properties\": {\n        \"dtype\": \"date\",\n        \"min\": \"2023-01-28 00:00:00\",\n        \"max\": \"2023-12-23 00:00:00\",\n        \"num_unique_values\": 5,\n        \"samples\": [\n          \"2023-09-05 00:00:00\",\n          \"2023-01-28 00:00:00\",\n          \"2023-04-16 00:00:00\"\n        ],\n        \"semantic_type\": \"\",\n        \"description\": \"\"\n      }\n    },\n    {\n      \"column\": \"activation_date\",\n      \"properties\": {\n        \"dtype\": \"object\",\n        \"num_unique_values\": 3,\n        \"samples\": [\n          \"24.12.2023\",\n          \"08.09.2023\",\n          \"22.04.2023\"\n        ],\n        \"semantic_type\": \"\",\n        \"description\": \"\"\n      }\n    },\n    {\n      \"column\": \"merchant_id\",\n      \"properties\": {\n        \"dtype\": \"number\",\n        \"std\": 1,\n        \"min\": 1,\n        \"max\": 5,\n        \"num_unique_values\": 5,\n        \"samples\": [\n          2,\n          5,\n          3\n        ],\n        \"semantic_type\": \"\",\n        \"description\": \"\"\n      }\n    },\n    {\n      \"column\": \"type\",\n      \"properties\": {\n        \"dtype\": \"category\",\n        \"num_unique_values\": 1,\n        \"samples\": [\n          \"IE\"\n        ],\n        \"semantic_type\": \"\",\n        \"description\": \"\"\n      }\n    },\n    {\n      \"column\": \"ind_frod\",\n      \"properties\": {\n        \"dtype\": \"number\",\n        \"std\": 0.0,\n        \"min\": 0.0,\n        \"max\": 0.0,\n        \"num_unique_values\": 1,\n        \"samples\": [\n          0.0\n        ],\n        \"semantic_type\": \"\",\n        \"description\": \"\"\n      }\n    },\n    {\n      \"column\": \"reg_month\",\n      \"properties\": {\n        \"dtype\": \"int32\",\n        \"num_unique_values\": 4,\n        \"samples\": [\n          9\n        ],\n        \"semantic_type\": \"\",\n        \"description\": \"\"\n      }\n    },\n    {\n      \"column\": \"reg_weekday\",\n      \"properties\": {\n        \"dtype\": \"int32\",\n        \"num_unique_values\": 3,\n        \"samples\": [\n          5\n        ],\n        \"semantic_type\": \"\",\n        \"description\": \"\"\n      }\n    }\n  ]\n}"
            }
          },
          "metadata": {}
        }
      ]
    },
    {
      "cell_type": "code",
      "source": [
        "reg_per_month = df.groupby('reg_month').agg({'merchant_id': 'nunique'}).reset_index().rename(columns={'merchant_id': 'n'})"
      ],
      "metadata": {
        "id": "tLPWOQTdoS8a"
      },
      "execution_count": null,
      "outputs": []
    },
    {
      "cell_type": "code",
      "source": [
        "reg_per_month.plot(x='reg_month', y='n', kind='bar', grid=True, figsize=(8,3), legend=False)\n",
        "plt.xlabel('месяц')\n",
        "plt.ylabel('число регистраций')\n",
        "plt.show()"
      ],
      "metadata": {
        "colab": {
          "base_uri": "https://localhost:8080/",
          "height": 315
        },
        "id": "FdIj1-WroS_s",
        "outputId": "f29edc24-0bcd-4feb-f446-d5760de7c3ca"
      },
      "execution_count": null,
      "outputs": [
        {
          "output_type": "display_data",
          "data": {
            "text/plain": [
              "<Figure size 800x300 with 1 Axes>"
            ],
            "image/png": "[encoded data removed]"
          },
          "metadata": {}
        }
      ]
    },
    {
      "cell_type": "markdown",
      "source": [
        "Каждый месяц регистрировалось примерно одинаковое число продавцов. Немного меньшее значение было в феврале, что, вероятно, связано с тем, что месяц короткий."
      ],
      "metadata": {
        "id": "SH1m3h0Uruev"
      }
    },
    {
      "cell_type": "code",
      "source": [
        "reg_per_weekday = df.groupby('reg_weekday').agg({'merchant_id': 'nunique'}).reset_index().rename(columns={'merchant_id': 'n'})"
      ],
      "metadata": {
        "id": "zuQwUv-koTCz"
      },
      "execution_count": null,
      "outputs": []
    },
    {
      "cell_type": "code",
      "source": [
        "reg_per_weekday.plot(x='reg_weekday', y='n', kind='bar', grid=True, figsize=(5,3), legend=False)\n",
        "plt.xlabel('день недели')\n",
        "plt.ylabel('число регистраций')\n",
        "plt.show()"
      ],
      "metadata": {
        "colab": {
          "base_uri": "https://localhost:8080/",
          "height": 306
        },
        "id": "Y63C94yioTFt",
        "outputId": "df224ce3-e6a7-4198-b329-2192efcd8ff3"
      },
      "execution_count": null,
      "outputs": [
        {
          "output_type": "display_data",
          "data": {
            "text/plain": [
              "<Figure size 500x300 with 1 Axes>"
            ],
            "image/png": "[encoded data removed]"
          },
          "metadata": {}
        }
      ]
    },
    {
      "cell_type": "markdown",
      "source": [
        "Число регистраций не зависит от дня недели."
      ],
      "metadata": {
        "id": "b_SBWNWVskEg"
      }
    },
    {
      "cell_type": "markdown",
      "source": [
        "**activation_date** - дата активации"
      ],
      "metadata": {
        "id": "ZHC42ASfu9Ze"
      }
    },
    {
      "cell_type": "code",
      "source": [
        "df['activation_date'] = pd.to_datetime(df['activation_date'],format='%d.%m.%Y')"
      ],
      "metadata": {
        "id": "ZxungIPJu9Zq"
      },
      "execution_count": null,
      "outputs": []
    },
    {
      "cell_type": "code",
      "source": [
        "df['activation_date'].agg(['min','max'])"
      ],
      "metadata": {
        "colab": {
          "base_uri": "https://localhost:8080/"
        },
        "outputId": "bc24c3d4-96c1-4a97-c2ab-d3962881880d",
        "id": "s00xFFZeu9Zr"
      },
      "execution_count": null,
      "outputs": [
        {
          "output_type": "execute_result",
          "data": {
            "text/plain": [
              "min   2022-01-22\n",
              "max   2024-08-30\n",
              "Name: activation_date, dtype: datetime64[ns]"
            ]
          },
          "metadata": {},
          "execution_count": 24
        }
      ]
    },
    {
      "cell_type": "markdown",
      "source": [
        "Период имеющихся значений - от 22.01.2022 до 30.08.2024. Это любопытно. Во-первых, если не считать 175 клиентов с неустановленной датой регистрации, которых мы уже удалили из датасета, все регистрации совершались в 2023 году. Во-вторых, у некоторых клиентов период от регистрации до активации занял продолжительное время - не менее 8 месяцев, т.к. все регистрации совершены в 2023 году.\n",
        "\n",
        "Также помним, что в этой колонке заполнено всего 20 300 строк из 35 000 исходных. Клиенты без даты активации либо были определены как мошенники и не получили возможность пользоваться сервисом, либо так и не начали работать на платформе."
      ],
      "metadata": {
        "id": "SrWykuyPu9Zr"
      }
    },
    {
      "cell_type": "markdown",
      "source": [
        "Проверим, сколько активаций было совершено до 02.01.2023:"
      ],
      "metadata": {
        "id": "VK6t2dsdw10h"
      }
    },
    {
      "cell_type": "code",
      "source": [
        "df.query('activation_date < \"2023-01-02\"')['merchant_id'].count()"
      ],
      "metadata": {
        "colab": {
          "base_uri": "https://localhost:8080/"
        },
        "id": "TvqHY1Ypysle",
        "outputId": "15623543-e26c-413b-b72d-8e492f516ebd"
      },
      "execution_count": null,
      "outputs": [
        {
          "output_type": "execute_result",
          "data": {
            "text/plain": [
              "5"
            ]
          },
          "metadata": {},
          "execution_count": 25
        }
      ]
    },
    {
      "cell_type": "markdown",
      "source": [
        "Таких записей всего 5. Оптимльнее всего просто удалить их из датасета. Вместе с этим стоит отдельно (вне рамок А/B-тестирования) рассмотреть этих пользователей и определить, ошибка ли это в данных датасета или есть неочевидный механизм активировать учетную запись до регистрации."
      ],
      "metadata": {
        "id": "Uhe-vSxdzMvh"
      }
    },
    {
      "cell_type": "markdown",
      "source": [
        "Посмотрим, есть ли еще подобные пользователи, укладывающиеся в рассматриваемый диапазон:"
      ],
      "metadata": {
        "id": "6Dooitf55ei-"
      }
    },
    {
      "cell_type": "code",
      "source": [
        "df.query('activation_date < registration_date')['merchant_id'].count()"
      ],
      "metadata": {
        "colab": {
          "base_uri": "https://localhost:8080/"
        },
        "id": "-fYTI3tizIf1",
        "outputId": "9d6dc330-a3e8-4888-861f-cf2f06f9c4a3"
      },
      "execution_count": null,
      "outputs": [
        {
          "output_type": "execute_result",
          "data": {
            "text/plain": [
              "19"
            ]
          },
          "metadata": {},
          "execution_count": 26
        }
      ]
    },
    {
      "cell_type": "code",
      "source": [
        "df.query('activation_date < registration_date').head()"
      ],
      "metadata": {
        "colab": {
          "base_uri": "https://localhost:8080/",
          "height": 206
        },
        "id": "zmi0fYttzIjH",
        "outputId": "50e0a9af-38ae-4efe-dfa9-11d47814b75f"
      },
      "execution_count": null,
      "outputs": [
        {
          "output_type": "execute_result",
          "data": {
            "text/plain": [
              "     registration_date activation_date  merchant_id type  ind_frod  reg_month  \\\n",
              "16          2023-09-21      2023-08-27           17   IE       1.0          9   \n",
              "223         2023-07-02      2023-05-11          224   IE       0.0          7   \n",
              "670         2023-11-23      2023-11-04          671   IE       0.0         11   \n",
              "1007        2023-05-26      2022-06-03         1008   IE       0.0          5   \n",
              "1829        2023-05-24      2023-05-21         1830   IE       0.0          5   \n",
              "\n",
              "      reg_weekday  \n",
              "16              3  \n",
              "223             6  \n",
              "670             3  \n",
              "1007            4  \n",
              "1829            2  "
            ],
            "text/html": [
              "\n",
              "  <div id=\"df-6a511a7f-9217-4d23-a064-b446ad51be4b\" class=\"colab-df-container\">\n",
              "    <div>\n",
              "<style scoped>\n",
              "    .dataframe tbody tr th:only-of-type {\n",
              "        vertical-align: middle;\n",
              "    }\n",
              "\n",
              "    .dataframe tbody tr th {\n",
              "        vertical-align: top;\n",
              "    }\n",
              "\n",
              "    .dataframe thead th {\n",
              "        text-align: right;\n",
              "    }\n",
              "</style>\n",
              "<table border=\"1\" class=\"dataframe\">\n",
              "  <thead>\n",
              "    <tr style=\"text-align: right;\">\n",
              "      <th></th>\n",
              "      <th>registration_date</th>\n",
              "      <th>activation_date</th>\n",
              "      <th>merchant_id</th>\n",
              "      <th>type</th>\n",
              "      <th>ind_frod</th>\n",
              "      <th>reg_month</th>\n",
              "      <th>reg_weekday</th>\n",
              "    </tr>\n",
              "  </thead>\n",
              "  <tbody>\n",
              "    <tr>\n",
              "      <th>16</th>\n",
              "      <td>2023-09-21</td>\n",
              "      <td>2023-08-27</td>\n",
              "      <td>17</td>\n",
              "      <td>IE</td>\n",
              "      <td>1.0</td>\n",
              "      <td>9</td>\n",
              "      <td>3</td>\n",
              "    </tr>\n",
              "    <tr>\n",
              "      <th>223</th>\n",
              "      <td>2023-07-02</td>\n",
              "      <td>2023-05-11</td>\n",
              "      <td>224</td>\n",
              "      <td>IE</td>\n",
              "      <td>0.0</td>\n",
              "      <td>7</td>\n",
              "      <td>6</td>\n",
              "    </tr>\n",
              "    <tr>\n",
              "      <th>670</th>\n",
              "      <td>2023-11-23</td>\n",
              "      <td>2023-11-04</td>\n",
              "      <td>671</td>\n",
              "      <td>IE</td>\n",
              "      <td>0.0</td>\n",
              "      <td>11</td>\n",
              "      <td>3</td>\n",
              "    </tr>\n",
              "    <tr>\n",
              "      <th>1007</th>\n",
              "      <td>2023-05-26</td>\n",
              "      <td>2022-06-03</td>\n",
              "      <td>1008</td>\n",
              "      <td>IE</td>\n",
              "      <td>0.0</td>\n",
              "      <td>5</td>\n",
              "      <td>4</td>\n",
              "    </tr>\n",
              "    <tr>\n",
              "      <th>1829</th>\n",
              "      <td>2023-05-24</td>\n",
              "      <td>2023-05-21</td>\n",
              "      <td>1830</td>\n",
              "      <td>IE</td>\n",
              "      <td>0.0</td>\n",
              "      <td>5</td>\n",
              "      <td>2</td>\n",
              "    </tr>\n",
              "  </tbody>\n",
              "</table>\n",
              "</div>\n",
              "    <div class=\"colab-df-buttons\">\n",
              "\n",
              "  <div class=\"colab-df-container\">\n",
              "    <button class=\"colab-df-convert\" onclick=\"convertToInteractive('df-6a511a7f-9217-4d23-a064-b446ad51be4b')\"\n",
              "            title=\"Convert this dataframe to an interactive table.\"\n",
              "            style=\"display:none;\">\n",
              "\n",
              "  <svg xmlns=\"http://www.w3.org/2000/svg\" height=\"24px\" viewBox=\"0 -960 960 960\">\n",
              "    <path d=\"M120-120v-720h720v720H120Zm60-500h600v-160H180v160Zm220 220h160v-160H400v160Zm0 220h160v-160H400v160ZM180-400h160v-160H180v160Zm440 0h160v-160H620v160ZM180-180h160v-160H180v160Zm440 0h160v-160H620v160Z\"/>\n",
              "  </svg>\n",
              "    </button>\n",
              "\n",
              "  <style>\n",
              "    .colab-df-container {\n",
              "      display:flex;\n",
              "      gap: 12px;\n",
              "    }\n",
              "\n",
              "    .colab-df-convert {\n",
              "      background-color: #E8F0FE;\n",
              "      border: none;\n",
              "      border-radius: 50%;\n",
              "      cursor: pointer;\n",
              "      display: none;\n",
              "      fill: #1967D2;\n",
              "      height: 32px;\n",
              "      padding: 0 0 0 0;\n",
              "      width: 32px;\n",
              "    }\n",
              "\n",
              "    .colab-df-convert:hover {\n",
              "      background-color: #E2EBFA;\n",
              "      box-shadow: 0px 1px 2px rgba(60, 64, 67, 0.3), 0px 1px 3px 1px rgba(60, 64, 67, 0.15);\n",
              "      fill: #174EA6;\n",
              "    }\n",
              "\n",
              "    .colab-df-buttons div {\n",
              "      margin-bottom: 4px;\n",
              "    }\n",
              "\n",
              "    [theme=dark] .colab-df-convert {\n",
              "      background-color: #3B4455;\n",
              "      fill: #D2E3FC;\n",
              "    }\n",
              "\n",
              "    [theme=dark] .colab-df-convert:hover {\n",
              "      background-color: #434B5C;\n",
              "      box-shadow: 0px 1px 3px 1px rgba(0, 0, 0, 0.15);\n",
              "      filter: drop-shadow(0px 1px 2px rgba(0, 0, 0, 0.3));\n",
              "      fill: #FFFFFF;\n",
              "    }\n",
              "  </style>\n",
              "\n",
              "    <script>\n",
              "      const buttonEl =\n",
              "        document.querySelector('#df-6a511a7f-9217-4d23-a064-b446ad51be4b button.colab-df-convert');\n",
              "      buttonEl.style.display =\n",
              "        google.colab.kernel.accessAllowed ? 'block' : 'none';\n",
              "\n",
              "      async function convertToInteractive(key) {\n",
              "        const element = document.querySelector('#df-6a511a7f-9217-4d23-a064-b446ad51be4b');\n",
              "        const dataTable =\n",
              "          await google.colab.kernel.invokeFunction('convertToInteractive',\n",
              "                                                    [key], {});\n",
              "        if (!dataTable) return;\n",
              "\n",
              "        const docLinkHtml = 'Like what you see? Visit the ' +\n",
              "          '<a target=\"_blank\" href=https://colab.research.google.com/notebooks/data_table.ipynb>data table notebook</a>'\n",
              "          + ' to learn more about interactive tables.';\n",
              "        element.innerHTML = '';\n",
              "        dataTable['output_type'] = 'display_data';\n",
              "        await google.colab.output.renderOutput(dataTable, element);\n",
              "        const docLink = document.createElement('div');\n",
              "        docLink.innerHTML = docLinkHtml;\n",
              "        element.appendChild(docLink);\n",
              "      }\n",
              "    </script>\n",
              "  </div>\n",
              "\n",
              "\n",
              "<div id=\"df-f4572a90-5b90-4b2d-87b5-5b1b45b30a6e\">\n",
              "  <button class=\"colab-df-quickchart\" onclick=\"quickchart('df-f4572a90-5b90-4b2d-87b5-5b1b45b30a6e')\"\n",
              "            title=\"Suggest charts\"\n",
              "            style=\"display:none;\">\n",
              "\n",
              "<svg xmlns=\"http://www.w3.org/2000/svg\" height=\"24px\"viewBox=\"0 0 24 24\"\n",
              "     width=\"24px\">\n",
              "    <g>\n",
              "        <path d=\"M19 3H5c-1.1 0-2 .9-2 2v14c0 1.1.9 2 2 2h14c1.1 0 2-.9 2-2V5c0-1.1-.9-2-2-2zM9 17H7v-7h2v7zm4 0h-2V7h2v10zm4 0h-2v-4h2v4z\"/>\n",
              "    </g>\n",
              "</svg>\n",
              "  </button>\n",
              "\n",
              "<style>\n",
              "  .colab-df-quickchart {\n",
              "      --bg-color: #E8F0FE;\n",
              "      --fill-color: #1967D2;\n",
              "      --hover-bg-color: #E2EBFA;\n",
              "      --hover-fill-color: #174EA6;\n",
              "      --disabled-fill-color: #AAA;\n",
              "      --disabled-bg-color: #DDD;\n",
              "  }\n",
              "\n",
              "  [theme=dark] .colab-df-quickchart {\n",
              "      --bg-color: #3B4455;\n",
              "      --fill-color: #D2E3FC;\n",
              "      --hover-bg-color: #434B5C;\n",
              "      --hover-fill-color: #FFFFFF;\n",
              "      --disabled-bg-color: #3B4455;\n",
              "      --disabled-fill-color: #666;\n",
              "  }\n",
              "\n",
              "  .colab-df-quickchart {\n",
              "    background-color: var(--bg-color);\n",
              "    border: none;\n",
              "    border-radius: 50%;\n",
              "    cursor: pointer;\n",
              "    display: none;\n",
              "    fill: var(--fill-color);\n",
              "    height: 32px;\n",
              "    padding: 0;\n",
              "    width: 32px;\n",
              "  }\n",
              "\n",
              "  .colab-df-quickchart:hover {\n",
              "    background-color: var(--hover-bg-color);\n",
              "    box-shadow: 0 1px 2px rgba(60, 64, 67, 0.3), 0 1px 3px 1px rgba(60, 64, 67, 0.15);\n",
              "    fill: var(--button-hover-fill-color);\n",
              "  }\n",
              "\n",
              "  .colab-df-quickchart-complete:disabled,\n",
              "  .colab-df-quickchart-complete:disabled:hover {\n",
              "    background-color: var(--disabled-bg-color);\n",
              "    fill: var(--disabled-fill-color);\n",
              "    box-shadow: none;\n",
              "  }\n",
              "\n",
              "  .colab-df-spinner {\n",
              "    border: 2px solid var(--fill-color);\n",
              "    border-color: transparent;\n",
              "    border-bottom-color: var(--fill-color);\n",
              "    animation:\n",
              "      spin 1s steps(1) infinite;\n",
              "  }\n",
              "\n",
              "  @keyframes spin {\n",
              "    0% {\n",
              "      border-color: transparent;\n",
              "      border-bottom-color: var(--fill-color);\n",
              "      border-left-color: var(--fill-color);\n",
              "    }\n",
              "    20% {\n",
              "      border-color: transparent;\n",
              "      border-left-color: var(--fill-color);\n",
              "      border-top-color: var(--fill-color);\n",
              "    }\n",
              "    30% {\n",
              "      border-color: transparent;\n",
              "      border-left-color: var(--fill-color);\n",
              "      border-top-color: var(--fill-color);\n",
              "      border-right-color: var(--fill-color);\n",
              "    }\n",
              "    40% {\n",
              "      border-color: transparent;\n",
              "      border-right-color: var(--fill-color);\n",
              "      border-top-color: var(--fill-color);\n",
              "    }\n",
              "    60% {\n",
              "      border-color: transparent;\n",
              "      border-right-color: var(--fill-color);\n",
              "    }\n",
              "    80% {\n",
              "      border-color: transparent;\n",
              "      border-right-color: var(--fill-color);\n",
              "      border-bottom-color: var(--fill-color);\n",
              "    }\n",
              "    90% {\n",
              "      border-color: transparent;\n",
              "      border-bottom-color: var(--fill-color);\n",
              "    }\n",
              "  }\n",
              "</style>\n",
              "\n",
              "  <script>\n",
              "    async function quickchart(key) {\n",
              "      const quickchartButtonEl =\n",
              "        document.querySelector('#' + key + ' button');\n",
              "      quickchartButtonEl.disabled = true;  // To prevent multiple clicks.\n",
              "      quickchartButtonEl.classList.add('colab-df-spinner');\n",
              "      try {\n",
              "        const charts = await google.colab.kernel.invokeFunction(\n",
              "            'suggestCharts', [key], {});\n",
              "      } catch (error) {\n",
              "        console.error('Error during call to suggestCharts:', error);\n",
              "      }\n",
              "      quickchartButtonEl.classList.remove('colab-df-spinner');\n",
              "      quickchartButtonEl.classList.add('colab-df-quickchart-complete');\n",
              "    }\n",
              "    (() => {\n",
              "      let quickchartButtonEl =\n",
              "        document.querySelector('#df-f4572a90-5b90-4b2d-87b5-5b1b45b30a6e button');\n",
              "      quickchartButtonEl.style.display =\n",
              "        google.colab.kernel.accessAllowed ? 'block' : 'none';\n",
              "    })();\n",
              "  </script>\n",
              "</div>\n",
              "    </div>\n",
              "  </div>\n"
            ],
            "application/vnd.google.colaboratory.intrinsic+json": {
              "type": "dataframe",
              "summary": "{\n  \"name\": \"df\",\n  \"rows\": 5,\n  \"fields\": [\n    {\n      \"column\": \"registration_date\",\n      \"properties\": {\n        \"dtype\": \"date\",\n        \"min\": \"2023-05-24 00:00:00\",\n        \"max\": \"2023-11-23 00:00:00\",\n        \"num_unique_values\": 5,\n        \"samples\": [\n          \"2023-07-02 00:00:00\",\n          \"2023-05-24 00:00:00\",\n          \"2023-11-23 00:00:00\"\n        ],\n        \"semantic_type\": \"\",\n        \"description\": \"\"\n      }\n    },\n    {\n      \"column\": \"activation_date\",\n      \"properties\": {\n        \"dtype\": \"date\",\n        \"min\": \"2022-06-03 00:00:00\",\n        \"max\": \"2023-11-04 00:00:00\",\n        \"num_unique_values\": 5,\n        \"samples\": [\n          \"2023-05-11 00:00:00\",\n          \"2023-05-21 00:00:00\",\n          \"2023-11-04 00:00:00\"\n        ],\n        \"semantic_type\": \"\",\n        \"description\": \"\"\n      }\n    },\n    {\n      \"column\": \"merchant_id\",\n      \"properties\": {\n        \"dtype\": \"number\",\n        \"std\": 716,\n        \"min\": 17,\n        \"max\": 1830,\n        \"num_unique_values\": 5,\n        \"samples\": [\n          224,\n          1830,\n          671\n        ],\n        \"semantic_type\": \"\",\n        \"description\": \"\"\n      }\n    },\n    {\n      \"column\": \"type\",\n      \"properties\": {\n        \"dtype\": \"category\",\n        \"num_unique_values\": 1,\n        \"samples\": [\n          \"IE\"\n        ],\n        \"semantic_type\": \"\",\n        \"description\": \"\"\n      }\n    },\n    {\n      \"column\": \"ind_frod\",\n      \"properties\": {\n        \"dtype\": \"number\",\n        \"std\": 0.44721359549995804,\n        \"min\": 0.0,\n        \"max\": 1.0,\n        \"num_unique_values\": 2,\n        \"samples\": [\n          0.0\n        ],\n        \"semantic_type\": \"\",\n        \"description\": \"\"\n      }\n    },\n    {\n      \"column\": \"reg_month\",\n      \"properties\": {\n        \"dtype\": \"int32\",\n        \"num_unique_values\": 4,\n        \"samples\": [\n          7\n        ],\n        \"semantic_type\": \"\",\n        \"description\": \"\"\n      }\n    },\n    {\n      \"column\": \"reg_weekday\",\n      \"properties\": {\n        \"dtype\": \"int32\",\n        \"num_unique_values\": 4,\n        \"samples\": [\n          6\n        ],\n        \"semantic_type\": \"\",\n        \"description\": \"\"\n      }\n    }\n  ]\n}"
            }
          },
          "metadata": {},
          "execution_count": 27
        }
      ]
    },
    {
      "cell_type": "markdown",
      "source": [
        "Такие пользователи есть. Их по-прежнему немного, поэтому удалим их из датасета."
      ],
      "metadata": {
        "id": "MKiZ6KEU6N89"
      }
    },
    {
      "cell_type": "code",
      "source": [
        "df = df.loc[(df['activation_date'] >= df['registration_date']) | (df['activation_date'].isna())]"
      ],
      "metadata": {
        "id": "ED5glIBc51M9"
      },
      "execution_count": null,
      "outputs": []
    },
    {
      "cell_type": "code",
      "source": [
        "df.shape[0]"
      ],
      "metadata": {
        "colab": {
          "base_uri": "https://localhost:8080/"
        },
        "id": "S_VzVfZr51T-",
        "outputId": "45743984-6659-4e54-fda5-3713feb3811b"
      },
      "execution_count": null,
      "outputs": [
        {
          "output_type": "execute_result",
          "data": {
            "text/plain": [
              "34806"
            ]
          },
          "metadata": {},
          "execution_count": 29
        }
      ]
    },
    {
      "cell_type": "markdown",
      "source": [
        "Избавимся от пропусков, заменив их на неправдоподобно большую дату в будущем."
      ],
      "metadata": {
        "id": "PpZdtJS9_Iqx"
      }
    },
    {
      "cell_type": "code",
      "source": [
        "df['activation_date'] = df['activation_date'].fillna('2200-01-01')\n",
        "df['activation_date'] = pd.to_datetime(df['activation_date'],format='%d.%m.%Y')"
      ],
      "metadata": {
        "id": "gxO4aFa4zIl_"
      },
      "execution_count": null,
      "outputs": []
    },
    {
      "cell_type": "markdown",
      "source": [
        "Добавим новый столбец, который показывает число дней, прошедших от даты регистрации до даты активации:"
      ],
      "metadata": {
        "id": "LReIzd4vIBCp"
      }
    },
    {
      "cell_type": "code",
      "source": [
        "df['reg_duration'] = (df['activation_date'] - df['registration_date']).dt.days"
      ],
      "metadata": {
        "id": "skQ0GHtpHsBa"
      },
      "execution_count": null,
      "outputs": []
    },
    {
      "cell_type": "code",
      "source": [
        "df.head()"
      ],
      "metadata": {
        "colab": {
          "base_uri": "https://localhost:8080/",
          "height": 206
        },
        "id": "kfcunugKHp3B",
        "outputId": "960605fb-65e4-472f-b62c-d8f2e85d968c"
      },
      "execution_count": null,
      "outputs": [
        {
          "output_type": "execute_result",
          "data": {
            "text/plain": [
              "  registration_date activation_date  merchant_id type  ind_frod  reg_month  \\\n",
              "0        2023-12-16      2023-12-24            1   IE       0.0         12   \n",
              "1        2023-09-05      2023-09-08            2   IE       0.0          9   \n",
              "2        2023-04-16      2023-04-22            3   IE       0.0          4   \n",
              "3        2023-12-23      2023-12-24            4   IE       0.0         12   \n",
              "4        2023-01-28      2200-01-01            5   IE       0.0          1   \n",
              "\n",
              "   reg_weekday  reg_duration  \n",
              "0            5             8  \n",
              "1            1             3  \n",
              "2            6             6  \n",
              "3            5             1  \n",
              "4            5         64621  "
            ],
            "text/html": [
              "\n",
              "  <div id=\"df-19210c38-d6cd-4300-8a6a-0daefd874fda\" class=\"colab-df-container\">\n",
              "    <div>\n",
              "<style scoped>\n",
              "    .dataframe tbody tr th:only-of-type {\n",
              "        vertical-align: middle;\n",
              "    }\n",
              "\n",
              "    .dataframe tbody tr th {\n",
              "        vertical-align: top;\n",
              "    }\n",
              "\n",
              "    .dataframe thead th {\n",
              "        text-align: right;\n",
              "    }\n",
              "</style>\n",
              "<table border=\"1\" class=\"dataframe\">\n",
              "  <thead>\n",
              "    <tr style=\"text-align: right;\">\n",
              "      <th></th>\n",
              "      <th>registration_date</th>\n",
              "      <th>activation_date</th>\n",
              "      <th>merchant_id</th>\n",
              "      <th>type</th>\n",
              "      <th>ind_frod</th>\n",
              "      <th>reg_month</th>\n",
              "      <th>reg_weekday</th>\n",
              "      <th>reg_duration</th>\n",
              "    </tr>\n",
              "  </thead>\n",
              "  <tbody>\n",
              "    <tr>\n",
              "      <th>0</th>\n",
              "      <td>2023-12-16</td>\n",
              "      <td>2023-12-24</td>\n",
              "      <td>1</td>\n",
              "      <td>IE</td>\n",
              "      <td>0.0</td>\n",
              "      <td>12</td>\n",
              "      <td>5</td>\n",
              "      <td>8</td>\n",
              "    </tr>\n",
              "    <tr>\n",
              "      <th>1</th>\n",
              "      <td>2023-09-05</td>\n",
              "      <td>2023-09-08</td>\n",
              "      <td>2</td>\n",
              "      <td>IE</td>\n",
              "      <td>0.0</td>\n",
              "      <td>9</td>\n",
              "      <td>1</td>\n",
              "      <td>3</td>\n",
              "    </tr>\n",
              "    <tr>\n",
              "      <th>2</th>\n",
              "      <td>2023-04-16</td>\n",
              "      <td>2023-04-22</td>\n",
              "      <td>3</td>\n",
              "      <td>IE</td>\n",
              "      <td>0.0</td>\n",
              "      <td>4</td>\n",
              "      <td>6</td>\n",
              "      <td>6</td>\n",
              "    </tr>\n",
              "    <tr>\n",
              "      <th>3</th>\n",
              "      <td>2023-12-23</td>\n",
              "      <td>2023-12-24</td>\n",
              "      <td>4</td>\n",
              "      <td>IE</td>\n",
              "      <td>0.0</td>\n",
              "      <td>12</td>\n",
              "      <td>5</td>\n",
              "      <td>1</td>\n",
              "    </tr>\n",
              "    <tr>\n",
              "      <th>4</th>\n",
              "      <td>2023-01-28</td>\n",
              "      <td>2200-01-01</td>\n",
              "      <td>5</td>\n",
              "      <td>IE</td>\n",
              "      <td>0.0</td>\n",
              "      <td>1</td>\n",
              "      <td>5</td>\n",
              "      <td>64621</td>\n",
              "    </tr>\n",
              "  </tbody>\n",
              "</table>\n",
              "</div>\n",
              "    <div class=\"colab-df-buttons\">\n",
              "\n",
              "  <div class=\"colab-df-container\">\n",
              "    <button class=\"colab-df-convert\" onclick=\"convertToInteractive('df-19210c38-d6cd-4300-8a6a-0daefd874fda')\"\n",
              "            title=\"Convert this dataframe to an interactive table.\"\n",
              "            style=\"display:none;\">\n",
              "\n",
              "  <svg xmlns=\"http://www.w3.org/2000/svg\" height=\"24px\" viewBox=\"0 -960 960 960\">\n",
              "    <path d=\"M120-120v-720h720v720H120Zm60-500h600v-160H180v160Zm220 220h160v-160H400v160Zm0 220h160v-160H400v160ZM180-400h160v-160H180v160Zm440 0h160v-160H620v160ZM180-180h160v-160H180v160Zm440 0h160v-160H620v160Z\"/>\n",
              "  </svg>\n",
              "    </button>\n",
              "\n",
              "  <style>\n",
              "    .colab-df-container {\n",
              "      display:flex;\n",
              "      gap: 12px;\n",
              "    }\n",
              "\n",
              "    .colab-df-convert {\n",
              "      background-color: #E8F0FE;\n",
              "      border: none;\n",
              "      border-radius: 50%;\n",
              "      cursor: pointer;\n",
              "      display: none;\n",
              "      fill: #1967D2;\n",
              "      height: 32px;\n",
              "      padding: 0 0 0 0;\n",
              "      width: 32px;\n",
              "    }\n",
              "\n",
              "    .colab-df-convert:hover {\n",
              "      background-color: #E2EBFA;\n",
              "      box-shadow: 0px 1px 2px rgba(60, 64, 67, 0.3), 0px 1px 3px 1px rgba(60, 64, 67, 0.15);\n",
              "      fill: #174EA6;\n",
              "    }\n",
              "\n",
              "    .colab-df-buttons div {\n",
              "      margin-bottom: 4px;\n",
              "    }\n",
              "\n",
              "    [theme=dark] .colab-df-convert {\n",
              "      background-color: #3B4455;\n",
              "      fill: #D2E3FC;\n",
              "    }\n",
              "\n",
              "    [theme=dark] .colab-df-convert:hover {\n",
              "      background-color: #434B5C;\n",
              "      box-shadow: 0px 1px 3px 1px rgba(0, 0, 0, 0.15);\n",
              "      filter: drop-shadow(0px 1px 2px rgba(0, 0, 0, 0.3));\n",
              "      fill: #FFFFFF;\n",
              "    }\n",
              "  </style>\n",
              "\n",
              "    <script>\n",
              "      const buttonEl =\n",
              "        document.querySelector('#df-19210c38-d6cd-4300-8a6a-0daefd874fda button.colab-df-convert');\n",
              "      buttonEl.style.display =\n",
              "        google.colab.kernel.accessAllowed ? 'block' : 'none';\n",
              "\n",
              "      async function convertToInteractive(key) {\n",
              "        const element = document.querySelector('#df-19210c38-d6cd-4300-8a6a-0daefd874fda');\n",
              "        const dataTable =\n",
              "          await google.colab.kernel.invokeFunction('convertToInteractive',\n",
              "                                                    [key], {});\n",
              "        if (!dataTable) return;\n",
              "\n",
              "        const docLinkHtml = 'Like what you see? Visit the ' +\n",
              "          '<a target=\"_blank\" href=https://colab.research.google.com/notebooks/data_table.ipynb>data table notebook</a>'\n",
              "          + ' to learn more about interactive tables.';\n",
              "        element.innerHTML = '';\n",
              "        dataTable['output_type'] = 'display_data';\n",
              "        await google.colab.output.renderOutput(dataTable, element);\n",
              "        const docLink = document.createElement('div');\n",
              "        docLink.innerHTML = docLinkHtml;\n",
              "        element.appendChild(docLink);\n",
              "      }\n",
              "    </script>\n",
              "  </div>\n",
              "\n",
              "\n",
              "<div id=\"df-9bdbd025-57b7-41ed-9bd4-5fe235596d73\">\n",
              "  <button class=\"colab-df-quickchart\" onclick=\"quickchart('df-9bdbd025-57b7-41ed-9bd4-5fe235596d73')\"\n",
              "            title=\"Suggest charts\"\n",
              "            style=\"display:none;\">\n",
              "\n",
              "<svg xmlns=\"http://www.w3.org/2000/svg\" height=\"24px\"viewBox=\"0 0 24 24\"\n",
              "     width=\"24px\">\n",
              "    <g>\n",
              "        <path d=\"M19 3H5c-1.1 0-2 .9-2 2v14c0 1.1.9 2 2 2h14c1.1 0 2-.9 2-2V5c0-1.1-.9-2-2-2zM9 17H7v-7h2v7zm4 0h-2V7h2v10zm4 0h-2v-4h2v4z\"/>\n",
              "    </g>\n",
              "</svg>\n",
              "  </button>\n",
              "\n",
              "<style>\n",
              "  .colab-df-quickchart {\n",
              "      --bg-color: #E8F0FE;\n",
              "      --fill-color: #1967D2;\n",
              "      --hover-bg-color: #E2EBFA;\n",
              "      --hover-fill-color: #174EA6;\n",
              "      --disabled-fill-color: #AAA;\n",
              "      --disabled-bg-color: #DDD;\n",
              "  }\n",
              "\n",
              "  [theme=dark] .colab-df-quickchart {\n",
              "      --bg-color: #3B4455;\n",
              "      --fill-color: #D2E3FC;\n",
              "      --hover-bg-color: #434B5C;\n",
              "      --hover-fill-color: #FFFFFF;\n",
              "      --disabled-bg-color: #3B4455;\n",
              "      --disabled-fill-color: #666;\n",
              "  }\n",
              "\n",
              "  .colab-df-quickchart {\n",
              "    background-color: var(--bg-color);\n",
              "    border: none;\n",
              "    border-radius: 50%;\n",
              "    cursor: pointer;\n",
              "    display: none;\n",
              "    fill: var(--fill-color);\n",
              "    height: 32px;\n",
              "    padding: 0;\n",
              "    width: 32px;\n",
              "  }\n",
              "\n",
              "  .colab-df-quickchart:hover {\n",
              "    background-color: var(--hover-bg-color);\n",
              "    box-shadow: 0 1px 2px rgba(60, 64, 67, 0.3), 0 1px 3px 1px rgba(60, 64, 67, 0.15);\n",
              "    fill: var(--button-hover-fill-color);\n",
              "  }\n",
              "\n",
              "  .colab-df-quickchart-complete:disabled,\n",
              "  .colab-df-quickchart-complete:disabled:hover {\n",
              "    background-color: var(--disabled-bg-color);\n",
              "    fill: var(--disabled-fill-color);\n",
              "    box-shadow: none;\n",
              "  }\n",
              "\n",
              "  .colab-df-spinner {\n",
              "    border: 2px solid var(--fill-color);\n",
              "    border-color: transparent;\n",
              "    border-bottom-color: var(--fill-color);\n",
              "    animation:\n",
              "      spin 1s steps(1) infinite;\n",
              "  }\n",
              "\n",
              "  @keyframes spin {\n",
              "    0% {\n",
              "      border-color: transparent;\n",
              "      border-bottom-color: var(--fill-color);\n",
              "      border-left-color: var(--fill-color);\n",
              "    }\n",
              "    20% {\n",
              "      border-color: transparent;\n",
              "      border-left-color: var(--fill-color);\n",
              "      border-top-color: var(--fill-color);\n",
              "    }\n",
              "    30% {\n",
              "      border-color: transparent;\n",
              "      border-left-color: var(--fill-color);\n",
              "      border-top-color: var(--fill-color);\n",
              "      border-right-color: var(--fill-color);\n",
              "    }\n",
              "    40% {\n",
              "      border-color: transparent;\n",
              "      border-right-color: var(--fill-color);\n",
              "      border-top-color: var(--fill-color);\n",
              "    }\n",
              "    60% {\n",
              "      border-color: transparent;\n",
              "      border-right-color: var(--fill-color);\n",
              "    }\n",
              "    80% {\n",
              "      border-color: transparent;\n",
              "      border-right-color: var(--fill-color);\n",
              "      border-bottom-color: var(--fill-color);\n",
              "    }\n",
              "    90% {\n",
              "      border-color: transparent;\n",
              "      border-bottom-color: var(--fill-color);\n",
              "    }\n",
              "  }\n",
              "</style>\n",
              "\n",
              "  <script>\n",
              "    async function quickchart(key) {\n",
              "      const quickchartButtonEl =\n",
              "        document.querySelector('#' + key + ' button');\n",
              "      quickchartButtonEl.disabled = true;  // To prevent multiple clicks.\n",
              "      quickchartButtonEl.classList.add('colab-df-spinner');\n",
              "      try {\n",
              "        const charts = await google.colab.kernel.invokeFunction(\n",
              "            'suggestCharts', [key], {});\n",
              "      } catch (error) {\n",
              "        console.error('Error during call to suggestCharts:', error);\n",
              "      }\n",
              "      quickchartButtonEl.classList.remove('colab-df-spinner');\n",
              "      quickchartButtonEl.classList.add('colab-df-quickchart-complete');\n",
              "    }\n",
              "    (() => {\n",
              "      let quickchartButtonEl =\n",
              "        document.querySelector('#df-9bdbd025-57b7-41ed-9bd4-5fe235596d73 button');\n",
              "      quickchartButtonEl.style.display =\n",
              "        google.colab.kernel.accessAllowed ? 'block' : 'none';\n",
              "    })();\n",
              "  </script>\n",
              "</div>\n",
              "    </div>\n",
              "  </div>\n"
            ],
            "application/vnd.google.colaboratory.intrinsic+json": {
              "type": "dataframe",
              "variable_name": "df",
              "summary": "{\n  \"name\": \"df\",\n  \"rows\": 34806,\n  \"fields\": [\n    {\n      \"column\": \"registration_date\",\n      \"properties\": {\n        \"dtype\": \"date\",\n        \"min\": \"2023-01-02 00:00:00\",\n        \"max\": \"2023-12-31 00:00:00\",\n        \"num_unique_values\": 364,\n        \"samples\": [\n          \"2023-06-22 00:00:00\",\n          \"2023-02-09 00:00:00\",\n          \"2023-07-11 00:00:00\"\n        ],\n        \"semantic_type\": \"\",\n        \"description\": \"\"\n      }\n    },\n    {\n      \"column\": \"activation_date\",\n      \"properties\": {\n        \"dtype\": \"date\",\n        \"min\": \"2023-01-03 00:00:00\",\n        \"max\": \"2200-01-01 00:00:00\",\n        \"num_unique_values\": 376,\n        \"samples\": [\n          \"2023-05-23 00:00:00\",\n          \"2023-03-30 00:00:00\",\n          \"2023-08-22 00:00:00\"\n        ],\n        \"semantic_type\": \"\",\n        \"description\": \"\"\n      }\n    },\n    {\n      \"column\": \"merchant_id\",\n      \"properties\": {\n        \"dtype\": \"number\",\n        \"std\": 10099,\n        \"min\": 1,\n        \"max\": 35000,\n        \"num_unique_values\": 34806,\n        \"samples\": [\n          14975,\n          9701,\n          11325\n        ],\n        \"semantic_type\": \"\",\n        \"description\": \"\"\n      }\n    },\n    {\n      \"column\": \"type\",\n      \"properties\": {\n        \"dtype\": \"category\",\n        \"num_unique_values\": 2,\n        \"samples\": [\n          \"LLC\",\n          \"IE\"\n        ],\n        \"semantic_type\": \"\",\n        \"description\": \"\"\n      }\n    },\n    {\n      \"column\": \"ind_frod\",\n      \"properties\": {\n        \"dtype\": \"number\",\n        \"std\": 0.2749549643287068,\n        \"min\": 0.0,\n        \"max\": 1.0,\n        \"num_unique_values\": 2,\n        \"samples\": [\n          1.0,\n          0.0\n        ],\n        \"semantic_type\": \"\",\n        \"description\": \"\"\n      }\n    },\n    {\n      \"column\": \"reg_month\",\n      \"properties\": {\n        \"dtype\": \"int32\",\n        \"num_unique_values\": 12,\n        \"samples\": [\n          5,\n          11\n        ],\n        \"semantic_type\": \"\",\n        \"description\": \"\"\n      }\n    },\n    {\n      \"column\": \"reg_weekday\",\n      \"properties\": {\n        \"dtype\": \"int32\",\n        \"num_unique_values\": 7,\n        \"samples\": [\n          5,\n          1\n        ],\n        \"semantic_type\": \"\",\n        \"description\": \"\"\n      }\n    },\n    {\n      \"column\": \"reg_duration\",\n      \"properties\": {\n        \"dtype\": \"number\",\n        \"std\": 31812,\n        \"min\": 1,\n        \"max\": 64647,\n        \"num_unique_values\": 376,\n        \"samples\": [\n          64360,\n          64438\n        ],\n        \"semantic_type\": \"\",\n        \"description\": \"\"\n      }\n    }\n  ]\n}"
            }
          },
          "metadata": {},
          "execution_count": 32
        }
      ]
    },
    {
      "cell_type": "markdown",
      "source": [
        "Посмотрим на распределение распределние новой переменной, убрав часть датасета, где реальная дата активации отсутствует:"
      ],
      "metadata": {
        "id": "UkwqDzrZJCsL"
      }
    },
    {
      "cell_type": "code",
      "source": [
        "act_date_not_null = df.query('activation_date != \"2200-01-01\"')"
      ],
      "metadata": {
        "id": "OpiVkfmXJBQO"
      },
      "execution_count": null,
      "outputs": []
    },
    {
      "cell_type": "code",
      "source": [
        "act_date_not_null['reg_duration'].describe()"
      ],
      "metadata": {
        "colab": {
          "base_uri": "https://localhost:8080/"
        },
        "id": "JHfpLzGGJBWm",
        "outputId": "4a569727-799b-41e1-e80b-b54125c3ff88"
      },
      "execution_count": null,
      "outputs": [
        {
          "output_type": "execute_result",
          "data": {
            "text/plain": [
              "count    20195.000000\n",
              "mean         6.023570\n",
              "std          4.075406\n",
              "min          1.000000\n",
              "25%          3.000000\n",
              "50%          6.000000\n",
              "75%          9.000000\n",
              "max        373.000000\n",
              "Name: reg_duration, dtype: float64"
            ]
          },
          "metadata": {},
          "execution_count": 34
        }
      ]
    },
    {
      "cell_type": "markdown",
      "source": [
        "Посмотрим, сколько выбросов в распределении. Выбросами по определению будем считть наблюдения, выходящие за 1,5 межквартильных размаха."
      ],
      "metadata": {
        "id": "Q9rvAoQsKc8R"
      }
    },
    {
      "cell_type": "code",
      "source": [
        "q1 = act_date_not_null['reg_duration'].quantile(q=0.25)\n",
        "q3 = act_date_not_null['reg_duration'].quantile(q=0.75)\n",
        "iqr = q3 - q1"
      ],
      "metadata": {
        "id": "FDcddFxVK_aF"
      },
      "execution_count": null,
      "outputs": []
    },
    {
      "cell_type": "code",
      "source": [
        "outliers = act_date_not_null.loc[(act_date_not_null['reg_duration'] < q1 - 1.5 * iqr) |\n",
        "                                 (act_date_not_null['reg_duration'] > q3 + 1.5 * iqr)]"
      ],
      "metadata": {
        "id": "ejQK737vK_ea"
      },
      "execution_count": null,
      "outputs": []
    },
    {
      "cell_type": "code",
      "source": [
        "outliers"
      ],
      "metadata": {
        "colab": {
          "base_uri": "https://localhost:8080/",
          "height": 81
        },
        "id": "BJpMUZTjLmh2",
        "outputId": "80e01f86-806e-4850-f870-ed41bddfb1e2"
      },
      "execution_count": null,
      "outputs": [
        {
          "output_type": "execute_result",
          "data": {
            "text/plain": [
              "      registration_date activation_date  merchant_id type  ind_frod  \\\n",
              "34890        2023-08-23      2024-08-30        34891  LLC       0.0   \n",
              "\n",
              "       reg_month  reg_weekday  reg_duration  \n",
              "34890          8            2           373  "
            ],
            "text/html": [
              "\n",
              "  <div id=\"df-7fe241b9-167a-4091-9780-bdf08ea99048\" class=\"colab-df-container\">\n",
              "    <div>\n",
              "<style scoped>\n",
              "    .dataframe tbody tr th:only-of-type {\n",
              "        vertical-align: middle;\n",
              "    }\n",
              "\n",
              "    .dataframe tbody tr th {\n",
              "        vertical-align: top;\n",
              "    }\n",
              "\n",
              "    .dataframe thead th {\n",
              "        text-align: right;\n",
              "    }\n",
              "</style>\n",
              "<table border=\"1\" class=\"dataframe\">\n",
              "  <thead>\n",
              "    <tr style=\"text-align: right;\">\n",
              "      <th></th>\n",
              "      <th>registration_date</th>\n",
              "      <th>activation_date</th>\n",
              "      <th>merchant_id</th>\n",
              "      <th>type</th>\n",
              "      <th>ind_frod</th>\n",
              "      <th>reg_month</th>\n",
              "      <th>reg_weekday</th>\n",
              "      <th>reg_duration</th>\n",
              "    </tr>\n",
              "  </thead>\n",
              "  <tbody>\n",
              "    <tr>\n",
              "      <th>34890</th>\n",
              "      <td>2023-08-23</td>\n",
              "      <td>2024-08-30</td>\n",
              "      <td>34891</td>\n",
              "      <td>LLC</td>\n",
              "      <td>0.0</td>\n",
              "      <td>8</td>\n",
              "      <td>2</td>\n",
              "      <td>373</td>\n",
              "    </tr>\n",
              "  </tbody>\n",
              "</table>\n",
              "</div>\n",
              "    <div class=\"colab-df-buttons\">\n",
              "\n",
              "  <div class=\"colab-df-container\">\n",
              "    <button class=\"colab-df-convert\" onclick=\"convertToInteractive('df-7fe241b9-167a-4091-9780-bdf08ea99048')\"\n",
              "            title=\"Convert this dataframe to an interactive table.\"\n",
              "            style=\"display:none;\">\n",
              "\n",
              "  <svg xmlns=\"http://www.w3.org/2000/svg\" height=\"24px\" viewBox=\"0 -960 960 960\">\n",
              "    <path d=\"M120-120v-720h720v720H120Zm60-500h600v-160H180v160Zm220 220h160v-160H400v160Zm0 220h160v-160H400v160ZM180-400h160v-160H180v160Zm440 0h160v-160H620v160ZM180-180h160v-160H180v160Zm440 0h160v-160H620v160Z\"/>\n",
              "  </svg>\n",
              "    </button>\n",
              "\n",
              "  <style>\n",
              "    .colab-df-container {\n",
              "      display:flex;\n",
              "      gap: 12px;\n",
              "    }\n",
              "\n",
              "    .colab-df-convert {\n",
              "      background-color: #E8F0FE;\n",
              "      border: none;\n",
              "      border-radius: 50%;\n",
              "      cursor: pointer;\n",
              "      display: none;\n",
              "      fill: #1967D2;\n",
              "      height: 32px;\n",
              "      padding: 0 0 0 0;\n",
              "      width: 32px;\n",
              "    }\n",
              "\n",
              "    .colab-df-convert:hover {\n",
              "      background-color: #E2EBFA;\n",
              "      box-shadow: 0px 1px 2px rgba(60, 64, 67, 0.3), 0px 1px 3px 1px rgba(60, 64, 67, 0.15);\n",
              "      fill: #174EA6;\n",
              "    }\n",
              "\n",
              "    .colab-df-buttons div {\n",
              "      margin-bottom: 4px;\n",
              "    }\n",
              "\n",
              "    [theme=dark] .colab-df-convert {\n",
              "      background-color: #3B4455;\n",
              "      fill: #D2E3FC;\n",
              "    }\n",
              "\n",
              "    [theme=dark] .colab-df-convert:hover {\n",
              "      background-color: #434B5C;\n",
              "      box-shadow: 0px 1px 3px 1px rgba(0, 0, 0, 0.15);\n",
              "      filter: drop-shadow(0px 1px 2px rgba(0, 0, 0, 0.3));\n",
              "      fill: #FFFFFF;\n",
              "    }\n",
              "  </style>\n",
              "\n",
              "    <script>\n",
              "      const buttonEl =\n",
              "        document.querySelector('#df-7fe241b9-167a-4091-9780-bdf08ea99048 button.colab-df-convert');\n",
              "      buttonEl.style.display =\n",
              "        google.colab.kernel.accessAllowed ? 'block' : 'none';\n",
              "\n",
              "      async function convertToInteractive(key) {\n",
              "        const element = document.querySelector('#df-7fe241b9-167a-4091-9780-bdf08ea99048');\n",
              "        const dataTable =\n",
              "          await google.colab.kernel.invokeFunction('convertToInteractive',\n",
              "                                                    [key], {});\n",
              "        if (!dataTable) return;\n",
              "\n",
              "        const docLinkHtml = 'Like what you see? Visit the ' +\n",
              "          '<a target=\"_blank\" href=https://colab.research.google.com/notebooks/data_table.ipynb>data table notebook</a>'\n",
              "          + ' to learn more about interactive tables.';\n",
              "        element.innerHTML = '';\n",
              "        dataTable['output_type'] = 'display_data';\n",
              "        await google.colab.output.renderOutput(dataTable, element);\n",
              "        const docLink = document.createElement('div');\n",
              "        docLink.innerHTML = docLinkHtml;\n",
              "        element.appendChild(docLink);\n",
              "      }\n",
              "    </script>\n",
              "  </div>\n",
              "\n",
              "    </div>\n",
              "  </div>\n"
            ],
            "application/vnd.google.colaboratory.intrinsic+json": {
              "type": "dataframe",
              "variable_name": "outliers",
              "summary": "{\n  \"name\": \"outliers\",\n  \"rows\": 1,\n  \"fields\": [\n    {\n      \"column\": \"registration_date\",\n      \"properties\": {\n        \"dtype\": \"date\",\n        \"min\": \"2023-08-23 00:00:00\",\n        \"max\": \"2023-08-23 00:00:00\",\n        \"num_unique_values\": 1,\n        \"samples\": [\n          \"2023-08-23 00:00:00\"\n        ],\n        \"semantic_type\": \"\",\n        \"description\": \"\"\n      }\n    },\n    {\n      \"column\": \"activation_date\",\n      \"properties\": {\n        \"dtype\": \"date\",\n        \"min\": \"2024-08-30 00:00:00\",\n        \"max\": \"2024-08-30 00:00:00\",\n        \"num_unique_values\": 1,\n        \"samples\": [\n          \"2024-08-30 00:00:00\"\n        ],\n        \"semantic_type\": \"\",\n        \"description\": \"\"\n      }\n    },\n    {\n      \"column\": \"merchant_id\",\n      \"properties\": {\n        \"dtype\": \"number\",\n        \"std\": null,\n        \"min\": 34891,\n        \"max\": 34891,\n        \"num_unique_values\": 1,\n        \"samples\": [\n          34891\n        ],\n        \"semantic_type\": \"\",\n        \"description\": \"\"\n      }\n    },\n    {\n      \"column\": \"type\",\n      \"properties\": {\n        \"dtype\": \"string\",\n        \"num_unique_values\": 1,\n        \"samples\": [\n          \"LLC\"\n        ],\n        \"semantic_type\": \"\",\n        \"description\": \"\"\n      }\n    },\n    {\n      \"column\": \"ind_frod\",\n      \"properties\": {\n        \"dtype\": \"number\",\n        \"std\": null,\n        \"min\": 0.0,\n        \"max\": 0.0,\n        \"num_unique_values\": 1,\n        \"samples\": [\n          0.0\n        ],\n        \"semantic_type\": \"\",\n        \"description\": \"\"\n      }\n    },\n    {\n      \"column\": \"reg_month\",\n      \"properties\": {\n        \"dtype\": \"int32\",\n        \"num_unique_values\": 1,\n        \"samples\": [\n          8\n        ],\n        \"semantic_type\": \"\",\n        \"description\": \"\"\n      }\n    },\n    {\n      \"column\": \"reg_weekday\",\n      \"properties\": {\n        \"dtype\": \"int32\",\n        \"num_unique_values\": 1,\n        \"samples\": [\n          2\n        ],\n        \"semantic_type\": \"\",\n        \"description\": \"\"\n      }\n    },\n    {\n      \"column\": \"reg_duration\",\n      \"properties\": {\n        \"dtype\": \"number\",\n        \"std\": null,\n        \"min\": 373,\n        \"max\": 373,\n        \"num_unique_values\": 1,\n        \"samples\": [\n          373\n        ],\n        \"semantic_type\": \"\",\n        \"description\": \"\"\n      }\n    }\n  ]\n}"
            }
          },
          "metadata": {},
          "execution_count": 37
        }
      ]
    },
    {
      "cell_type": "markdown",
      "source": [
        "Всего один выброс: продавец был активирован через 383 дня после регистрации.\n",
        "\n",
        "Посмотрим на распределение без выбросов:"
      ],
      "metadata": {
        "id": "vFeSMZkWQOqg"
      }
    },
    {
      "cell_type": "code",
      "source": [
        "reg_dur_norm = act_date_not_null.query('merchant_id not in @outliers.merchant_id')\n",
        "reg_dur_norm['reg_duration'].describe()"
      ],
      "metadata": {
        "colab": {
          "base_uri": "https://localhost:8080/"
        },
        "id": "tmnaCbb7QiSk",
        "outputId": "89dfe968-8d62-4cc4-8e9a-0b303b6a823c"
      },
      "execution_count": null,
      "outputs": [
        {
          "output_type": "execute_result",
          "data": {
            "text/plain": [
              "count    20194.000000\n",
              "mean         6.005398\n",
              "std          3.152808\n",
              "min          1.000000\n",
              "25%          3.000000\n",
              "50%          6.000000\n",
              "75%          9.000000\n",
              "max         11.000000\n",
              "Name: reg_duration, dtype: float64"
            ]
          },
          "metadata": {},
          "execution_count": 38
        }
      ]
    },
    {
      "cell_type": "code",
      "source": [
        "sns.set_style(\"darkgrid\")\n",
        "plt.figure(figsize=(6, 4))\n",
        "fig = sns.distplot(reg_dur_norm['reg_duration'], kde=False, bins = np.linspace(start=1, stop=11, num=12))\n",
        "fig.set_title(\"Распределение продолжительности срока от регистрации до активации\", fontsize=12)\n",
        "fig.set_xlabel(\"Число дней\", fontsize=9)\n",
        "fig.set_ylabel(\"Количество продавцов\", fontsize=9)\n",
        "plt.show()"
      ],
      "metadata": {
        "colab": {
          "base_uri": "https://localhost:8080/",
          "height": 409
        },
        "id": "wb8ulpr_JBaD",
        "outputId": "5be54944-a5d6-4f6b-abad-9b4f34e1152f"
      },
      "execution_count": null,
      "outputs": [
        {
          "output_type": "display_data",
          "data": {
            "text/plain": [
              "<Figure size 600x400 with 1 Axes>"
            ],
            "image/png": "[encoded data removed]"
          },
          "metadata": {}
        }
      ]
    },
    {
      "cell_type": "markdown",
      "source": [
        "Количество продавцов в каждой группе примерно одинаковое. Среднее и медиана совпадают - 6 дней."
      ],
      "metadata": {
        "id": "YXOvwjzuTTz5"
      }
    },
    {
      "cell_type": "markdown",
      "source": [
        "**type** - форма организации бизнеса"
      ],
      "metadata": {
        "id": "DKpftGLRT4aW"
      }
    },
    {
      "cell_type": "code",
      "source": [
        "display(df['type'].value_counts())\n",
        "display(df['type'].value_counts(normalize = True))"
      ],
      "metadata": {
        "colab": {
          "base_uri": "https://localhost:8080/",
          "height": 165
        },
        "id": "q0tnqiMxJBeC",
        "outputId": "6bc5991b-d2c9-47e5-db90-79f44f26f344"
      },
      "execution_count": null,
      "outputs": [
        {
          "output_type": "display_data",
          "data": {
            "text/plain": [
              "type\n",
              "IE     25079\n",
              "LLC     9727\n",
              "Name: count, dtype: int64"
            ]
          },
          "metadata": {}
        },
        {
          "output_type": "display_data",
          "data": {
            "text/plain": [
              "type\n",
              "IE     0.720537\n",
              "LLC    0.279463\n",
              "Name: proportion, dtype: float64"
            ]
          },
          "metadata": {}
        }
      ]
    },
    {
      "cell_type": "markdown",
      "source": [
        "72% продавцов оформлены как индиивидуальные предприниматели, 28% - как общество с ограниченной ответственностью."
      ],
      "metadata": {
        "id": "b3QuD0SOUFNZ"
      }
    },
    {
      "cell_type": "markdown",
      "source": [
        "**ind_frod** - индекс мошенника"
      ],
      "metadata": {
        "id": "DJvPRgvTVcSi"
      }
    },
    {
      "cell_type": "markdown",
      "source": [
        "По условию задания, индекс проставлялся либо вручную на этапе проверки документов, либо после на основе жалоб пользователей."
      ],
      "metadata": {
        "id": "ABDe91ItVzUm"
      }
    },
    {
      "cell_type": "code",
      "source": [
        "display(df['ind_frod'].value_counts())\n",
        "display(df['ind_frod'].value_counts(normalize = True))"
      ],
      "metadata": {
        "colab": {
          "base_uri": "https://localhost:8080/",
          "height": 165
        },
        "id": "pQL7GoxaNf0t",
        "outputId": "b8a28f25-692e-4ed6-ad61-0ae5674a52db"
      },
      "execution_count": null,
      "outputs": [
        {
          "output_type": "display_data",
          "data": {
            "text/plain": [
              "ind_frod\n",
              "0.0    31298\n",
              "1.0     2810\n",
              "Name: count, dtype: int64"
            ]
          },
          "metadata": {}
        },
        {
          "output_type": "display_data",
          "data": {
            "text/plain": [
              "ind_frod\n",
              "0.0    0.917615\n",
              "1.0    0.082385\n",
              "Name: proportion, dtype: float64"
            ]
          },
          "metadata": {}
        }
      ]
    },
    {
      "cell_type": "markdown",
      "source": [
        "Как мы помним, в столбце 700 пропущенных значений.\n",
        "\n",
        "Доля продавцов-мошенников среди оставшхся записей - 8,2%. Добросовестных продавцов - 91,8%."
      ],
      "metadata": {
        "id": "B_ECcbKWUavd"
      }
    },
    {
      "cell_type": "markdown",
      "source": [
        "Вообще говоря, 700 записей без целевого признака не помогут нам в дальнейшем анализе, поэтому удалим их. Это 2% датасета."
      ],
      "metadata": {
        "id": "8JVE06xFVM3w"
      }
    },
    {
      "cell_type": "code",
      "source": [
        "df = df.query('~ ind_frod.isna()')"
      ],
      "metadata": {
        "id": "vfPxwanUNf3F"
      },
      "execution_count": null,
      "outputs": []
    },
    {
      "cell_type": "markdown",
      "source": [
        "Рассмотрим признаки в разрезе целевой переменной."
      ],
      "metadata": {
        "id": "NXzZUd_xX4RA"
      }
    },
    {
      "cell_type": "code",
      "source": [
        "fraud = df.query('ind_frod == 1')\n",
        "nonfraud = df.query('ind_frod == 0')"
      ],
      "metadata": {
        "id": "6yv2EkObNf8a"
      },
      "execution_count": null,
      "outputs": []
    },
    {
      "cell_type": "markdown",
      "source": [
        "Проверим, будет ли доля мошенников среди ИП выше, чем среди ООО."
      ],
      "metadata": {
        "id": "8j3jKQRgYv1n"
      }
    },
    {
      "cell_type": "code",
      "source": [
        "#вспомогательная функция для отображения процентов на графике\n",
        "#принимает на вход название графика, сдвиг надписи по горизонтали и по вертикали\n",
        "\n",
        "def show_percent(figure, shift, height):\n",
        "    totals = []\n",
        "    for i in figure.patches:\n",
        "        totals.append(i.get_height())\n",
        "\n",
        "    total = sum(totals)\n",
        "\n",
        "    for i in figure.patches:\n",
        "        figure.text(i.get_x() + shift, i.get_height() + height, \\\n",
        "            str(round((i.get_height() / total) * 100, 2)) + '%', fontsize=8, color='black')"
      ],
      "metadata": {
        "id": "3ECCXor6aY63"
      },
      "execution_count": null,
      "outputs": []
    },
    {
      "cell_type": "code",
      "source": [
        "type_f = fraud.groupby(by='type').agg({'merchant_id': 'count'}).reset_index().rename(columns = {'merchant_id': 'n'})\n",
        "type_nf = nonfraud.groupby(by='type').agg({'merchant_id': 'count'}).reset_index().rename(columns = {'merchant_id': 'n'})"
      ],
      "metadata": {
        "id": "THBe-sECadML"
      },
      "execution_count": null,
      "outputs": []
    },
    {
      "cell_type": "code",
      "source": [
        "fig, axes = plt.subplots(1, 2, figsize=(6, 3))\n",
        "plt.subplots_adjust(wspace = 0.5, top=0.8)\n",
        "\n",
        "fig.suptitle('Распределение по форме организации', fontsize=14)\n",
        "\n",
        "fig1 = sns.barplot(ax=axes[0], x=\"type\", y=\"n\", data=type_f)\n",
        "fig1.set_title(\"Мошенники\", fontsize=10)\n",
        "fig1.set_ylabel(\"Количество продавцов\", fontsize=8)\n",
        "fig1.set_xlabel(\"Форма организации\")\n",
        "show_percent(fig1, 0.25, 3)\n",
        "\n",
        "fig2 = sns.barplot(ax=axes[1], x=\"type\", y=\"n\", data=type_nf)\n",
        "fig2.set_title(\"Не мошенники\", fontsize=10)\n",
        "fig2.set_ylabel(\"Количество продавцов\", fontsize=8)\n",
        "fig2.set_xlabel(\"Форма организации\")\n",
        "show_percent(fig2, 0.17, 25)\n",
        "\n",
        "plt.show()"
      ],
      "metadata": {
        "colab": {
          "base_uri": "https://localhost:8080/",
          "height": 341
        },
        "id": "wrFQanmMYWV3",
        "outputId": "26e9f5f1-2f49-4f03-9e67-33e51183780e"
      },
      "execution_count": null,
      "outputs": [
        {
          "output_type": "display_data",
          "data": {
            "text/plain": [
              "<Figure size 600x300 with 2 Axes>"
            ],
            "image/png": "[encoded data removed]"
          },
          "metadata": {}
        }
      ]
    },
    {
      "cell_type": "markdown",
      "source": [
        "Доля мошенников среди ИП действительно выше: 84% против 71%."
      ],
      "metadata": {
        "id": "Fh27PjZhbMZ1"
      }
    },
    {
      "cell_type": "markdown",
      "source": [
        "Теперь сравним группы относительно продолжительности регистрации. Сначала сделаем это по той части датасета, где изначально были указаны обе даты."
      ],
      "metadata": {
        "id": "lizf_snadg0z"
      }
    },
    {
      "cell_type": "code",
      "source": [
        "act_date_not_null = df.query('activation_date != \"2200-01-01\"')\n",
        "fraud_a = act_date_not_null.query('ind_frod == 1 and merchant_id not in @outliers.merchant_id')\n",
        "nonfraud_a = act_date_not_null.query('ind_frod == 0 and merchant_id not in @outliers.merchant_id')"
      ],
      "metadata": {
        "id": "9VIVC2NKYWZ7"
      },
      "execution_count": null,
      "outputs": []
    },
    {
      "cell_type": "code",
      "source": [
        "plt.figure(figsize=(8, 4))\n",
        "fig1 = sns.distplot(fraud_a['reg_duration'], kde=True, bins=np.linspace(start=1, stop=11, num=12), label='мошенники')\n",
        "fig2 = sns.distplot(nonfraud_a['reg_duration'], kde=True, bins = np.linspace(start=1, stop=11, num=12), label='не мошенники')\n",
        "fig2.set_title(\"Распределение продолжительности срока от регистрации до активации\", fontsize=14)\n",
        "fig2.set_ylabel(\"Доля\", fontsize=10)\n",
        "fig2.set_xlabel(\"Количество продавцов\")\n",
        "plt.legend(loc='lower right')\n",
        "plt.show()"
      ],
      "metadata": {
        "colab": {
          "base_uri": "https://localhost:8080/",
          "height": 411
        },
        "id": "X2dAAkhGYWds",
        "outputId": "e6be47bd-c96e-4e64-ad9f-d7834bd6ed8f"
      },
      "execution_count": null,
      "outputs": [
        {
          "output_type": "display_data",
          "data": {
            "text/plain": [
              "<Figure size 800x400 with 1 Axes>"
            ],
            "image/png": "[encoded data removed]"
          },
          "metadata": {}
        }
      ]
    },
    {
      "cell_type": "code",
      "source": [
        "display(fraud_a['reg_duration'].mean())\n",
        "display(nonfraud_a['reg_duration'].mean())"
      ],
      "metadata": {
        "id": "v1qDutJ3d5_G",
        "colab": {
          "base_uri": "https://localhost:8080/",
          "height": 54
        },
        "outputId": "384ff08a-74c1-4400-e9d7-d665ea447b53"
      },
      "execution_count": null,
      "outputs": [
        {
          "output_type": "display_data",
          "data": {
            "text/plain": [
              "5.925578486554096"
            ]
          },
          "metadata": {}
        },
        {
          "output_type": "display_data",
          "data": {
            "text/plain": [
              "6.003901742045392"
            ]
          },
          "metadata": {}
        }
      ]
    },
    {
      "cell_type": "markdown",
      "source": [
        "**Нулевая гипотеза**: \"Среднее количество дней от регистрации до активации у продавцов-мошенников и добросовестных продавцов не различается\".\n",
        "\n",
        "**Альтернативная гипотеза**: \"Среднее количество дней от регистрации до активации у продавцов-мошенников и добросовестных продавцов различается\"."
      ],
      "metadata": {
        "id": "B4f5Fn1lfFO3"
      }
    },
    {
      "cell_type": "markdown",
      "source": [
        "В качестве критического уровеня статистической значимости возьмем стандартное значение 0.05."
      ],
      "metadata": {
        "id": "gsnRzHiafeUQ"
      }
    },
    {
      "cell_type": "markdown",
      "source": [
        "В качестве статистического критерия применим тест Стьюдента. Критерий использовать допустимо, так как объем выборок достаточно велик, следовательно, соблюдается ЦПТ и требование о нормальности выборочных средних удовлетворяется. Выбросы в распределении отсутствуют.\n",
        "\n",
        "Перед тестом проверим равенство дисперсий тестом Левена:"
      ],
      "metadata": {
        "id": "YVgzP16kfhiw"
      }
    },
    {
      "cell_type": "code",
      "source": [
        "result_levene = st.levene(fraud_a['reg_duration'], nonfraud_a['reg_duration'], center='mean')\n",
        "print('p-значение:', result_levene.pvalue.round(5))"
      ],
      "metadata": {
        "id": "YRt5cBnRe7eL",
        "colab": {
          "base_uri": "https://localhost:8080/"
        },
        "outputId": "8aca0cc1-796e-4ca6-8955-4debb68d1f78"
      },
      "execution_count": null,
      "outputs": [
        {
          "output_type": "stream",
          "name": "stdout",
          "text": [
            "p-значение: 0.09613\n"
          ]
        }
      ]
    },
    {
      "cell_type": "markdown",
      "source": [
        "p-значение теста Левена выше критического уровеня значимости, поэтому нет оснований отвергнуть нулевую гипотезу о равенстве дисперсий выборок по возрасту."
      ],
      "metadata": {
        "id": "GMM8xCdrfqT-"
      }
    },
    {
      "cell_type": "code",
      "source": [
        "result = st.ttest_ind(fraud_a['reg_duration'], nonfraud_a['reg_duration'], equal_var=True)\n",
        "print('p-значение:', result.pvalue.round(5))"
      ],
      "metadata": {
        "id": "4PBJ1HIHe7n4",
        "colab": {
          "base_uri": "https://localhost:8080/"
        },
        "outputId": "be6f3c09-d203-4e25-df63-7bd7d010715d"
      },
      "execution_count": null,
      "outputs": [
        {
          "output_type": "stream",
          "name": "stdout",
          "text": [
            "p-значение: 0.34086\n"
          ]
        }
      ]
    },
    {
      "cell_type": "markdown",
      "source": [
        "p-значение теста Сьюдента выше критического уровеня значимости, поэтому нет оснований отвергнуть нулевую гипотезу о равенстве среднего срока от регистрации до активации для мошенников и нет (для тех продавцов, для которых известны обе даты)."
      ],
      "metadata": {
        "id": "rXUL6Tdcf08u"
      }
    },
    {
      "cell_type": "markdown",
      "source": [
        "Теперь проверим, какова доля мошенников среди тех продавцов, для которых не указана/не указана дата активации."
      ],
      "metadata": {
        "id": "XccP7Cm5k_EX"
      }
    },
    {
      "cell_type": "code",
      "source": [
        "no_act_date = df.query('activation_date == \"2200-01-01\"')\n",
        "act_date = df.query('activation_date != \"2200-01-01\"')"
      ],
      "metadata": {
        "id": "Q8cVeyaqd6Gj"
      },
      "execution_count": null,
      "outputs": []
    },
    {
      "cell_type": "code",
      "source": [
        "display(no_act_date['ind_frod'].value_counts())\n",
        "display(no_act_date['ind_frod'].value_counts(normalize = True))"
      ],
      "metadata": {
        "colab": {
          "base_uri": "https://localhost:8080/",
          "height": 165
        },
        "id": "BfFt678pf0Zw",
        "outputId": "e9682661-447f-4f6b-c523-8a339325226c"
      },
      "execution_count": null,
      "outputs": [
        {
          "output_type": "display_data",
          "data": {
            "text/plain": [
              "ind_frod\n",
              "0.0    13100\n",
              "1.0     1211\n",
              "Name: count, dtype: int64"
            ]
          },
          "metadata": {}
        },
        {
          "output_type": "display_data",
          "data": {
            "text/plain": [
              "ind_frod\n",
              "0.0    0.91538\n",
              "1.0    0.08462\n",
              "Name: proportion, dtype: float64"
            ]
          },
          "metadata": {}
        }
      ]
    },
    {
      "cell_type": "code",
      "source": [
        "display(act_date['ind_frod'].value_counts())\n",
        "display(act_date['ind_frod'].value_counts(normalize = True))"
      ],
      "metadata": {
        "colab": {
          "base_uri": "https://localhost:8080/",
          "height": 165
        },
        "id": "d3eIxhcFVR7l",
        "outputId": "7c310f8b-9b48-4c13-c67f-e41067f40a9c"
      },
      "execution_count": null,
      "outputs": [
        {
          "output_type": "display_data",
          "data": {
            "text/plain": [
              "ind_frod\n",
              "0.0    18198\n",
              "1.0     1599\n",
              "Name: count, dtype: int64"
            ]
          },
          "metadata": {}
        },
        {
          "output_type": "display_data",
          "data": {
            "text/plain": [
              "ind_frod\n",
              "0.0    0.91923\n",
              "1.0    0.08077\n",
              "Name: proportion, dtype: float64"
            ]
          },
          "metadata": {}
        }
      ]
    },
    {
      "cell_type": "markdown",
      "source": [
        "Проверим, является ли статистически значимым полученное различие:"
      ],
      "metadata": {
        "id": "YzBXJZ26rzW2"
      }
    },
    {
      "cell_type": "code",
      "source": [
        "def Z_test(alpha, successes1, successes2, trials1, trials2):\n",
        "#проверяем гипотезу о том, что пропорции в обеих выборках равны\n",
        "#alpha  - выбранный критерий статистической значимости\n",
        "#successes1, successes2 - количество успешных исходов в выборках,\n",
        "#trials1, trials2 - размеры сравниваемых выборок\n",
        "\n",
        "    p1 = successes1 / trials1\n",
        "    p2 = successes2 / trials2\n",
        "    p = (successes1 + successes2) / (trials1 + trials2)\n",
        "    z_value = (p1 - p2) / mth.sqrt(p * (1 - p) * (1 / trials1 + 1 / trials2))\n",
        "    distr = st.norm(0, 1)\n",
        "    p_value = (1 - distr.cdf(abs(z_value))) * 2\n",
        "    print('p_value:', p_value.round(5))\n",
        "    if (p_value < alpha):\n",
        "        print('Есть основания отвергнуть Н0. Пропорции отличаются, и отличие статистически значимо.')\n",
        "    else:\n",
        "        print('Нет оснований отвергнуть Н0. Пропорции не отличаются.')"
      ],
      "metadata": {
        "id": "NtBI_hM9rueW"
      },
      "execution_count": null,
      "outputs": []
    },
    {
      "cell_type": "code",
      "source": [
        "Z_test(0.05, act_date.query('ind_frod == 1').shape[0], no_act_date.query('ind_frod == 1').shape[0], act_date.shape[0], no_act_date.shape[0])"
      ],
      "metadata": {
        "colab": {
          "base_uri": "https://localhost:8080/"
        },
        "id": "bMq3pkrir1f2",
        "outputId": "a50d321b-7786-4cbd-9a6a-414e28090679"
      },
      "execution_count": null,
      "outputs": [
        {
          "output_type": "stream",
          "name": "stdout",
          "text": [
            "p_value: 0.20184\n",
            "Нет оснований отвергнуть Н0. Пропорции не отличаются.\n"
          ]
        }
      ]
    },
    {
      "cell_type": "markdown",
      "source": [
        "В среднем в день регистрируется около 8 мошенников."
      ],
      "metadata": {
        "id": "-wc7XRN4hxCu"
      }
    },
    {
      "cell_type": "code",
      "source": [
        "n_reg_f = df.query('ind_frod == 1').groupby('registration_date').agg({'merchant_id':'nunique'}).reset_index().rename(columns = {'merchant_id': 'n'})\n",
        "n_reg_f['n'].mean()"
      ],
      "metadata": {
        "colab": {
          "base_uri": "https://localhost:8080/"
        },
        "id": "3thXeKxQVd3q",
        "outputId": "cbb25736-62fb-4058-e406-e0e3d148725c"
      },
      "execution_count": null,
      "outputs": [
        {
          "output_type": "execute_result",
          "data": {
            "text/plain": [
              "7.71978021978022"
            ]
          },
          "metadata": {},
          "execution_count": 57
        }
      ]
    },
    {
      "cell_type": "markdown",
      "source": [
        "Также проверим, был ли всплеск регистрации мошенников в какой-то из дней недели или месяцев:"
      ],
      "metadata": {
        "id": "wKVguzS9hv-Z"
      }
    },
    {
      "cell_type": "code",
      "source": [
        "reg_per_month_f = df.query('ind_frod == 1').groupby('reg_month').agg({'merchant_id': 'nunique'}).reset_index().rename(columns={'merchant_id': 'n'})"
      ],
      "metadata": {
        "id": "j8I7HqnMWiIl"
      },
      "execution_count": null,
      "outputs": []
    },
    {
      "cell_type": "code",
      "source": [
        "reg_per_month_f.plot(x='reg_month', y='n', kind='bar', grid=True, figsize=(8,3), legend=False)\n",
        "plt.xlabel('месяц')\n",
        "plt.ylabel('число регистраций')\n",
        "plt.show()"
      ],
      "metadata": {
        "colab": {
          "base_uri": "https://localhost:8080/",
          "height": 315
        },
        "outputId": "fff42518-487d-46a6-d9d2-8826c4a801ac",
        "id": "SaPPwuPCWiIz"
      },
      "execution_count": null,
      "outputs": [
        {
          "output_type": "display_data",
          "data": {
            "text/plain": [
              "<Figure size 800x300 with 1 Axes>"
            ],
            "image/png": "[encoded data removed]"
          },
          "metadata": {}
        }
      ]
    },
    {
      "cell_type": "markdown",
      "source": [
        "В первые 8 месяцев видна тенденция к росту числа мошенников. Далее процесс прекратился; в сентябре и ноябре их количество возвращалось практически к уровню января-февраля."
      ],
      "metadata": {
        "id": "Vb0NgtyBWiI0"
      }
    },
    {
      "cell_type": "code",
      "source": [
        "reg_per_weekday_f = df.query('ind_frod == 1').groupby('reg_weekday').agg({'merchant_id': 'nunique'}).reset_index().rename(columns={'merchant_id': 'n'})"
      ],
      "metadata": {
        "id": "tyd1Mgg6WiI1"
      },
      "execution_count": null,
      "outputs": []
    },
    {
      "cell_type": "code",
      "source": [
        "reg_per_weekday_f.plot(x='reg_weekday', y='n', kind='bar', grid=True, figsize=(5,3), legend=False)\n",
        "plt.xlabel('день недели')\n",
        "plt.ylabel('число регистраций')\n",
        "plt.show()"
      ],
      "metadata": {
        "colab": {
          "base_uri": "https://localhost:8080/",
          "height": 306
        },
        "outputId": "5b20743f-8442-4c40-ab64-3fa2daa59027",
        "id": "4_iunZxbWiI1"
      },
      "execution_count": null,
      "outputs": [
        {
          "output_type": "display_data",
          "data": {
            "text/plain": [
              "<Figure size 500x300 with 1 Axes>"
            ],
            "image/png": "[encoded data removed]"
          },
          "metadata": {}
        }
      ]
    },
    {
      "cell_type": "markdown",
      "source": [
        "По вторникам и средам число регистраций мошенников ниже, чем в другие дни. А максимум приходится на пятницу."
      ],
      "metadata": {
        "id": "yFwufh8xWiI2"
      }
    },
    {
      "cell_type": "markdown",
      "source": [
        "Теперь посмотрим, в каких пропорциях делится датасет на группы активировавшихся/нет и мошенников/нет:"
      ],
      "metadata": {
        "id": "88lfabhlV0hu"
      }
    },
    {
      "cell_type": "code",
      "source": [
        "#мошенники, которые сумели пройти регистрацию\n",
        "display(act_date.query('ind_frod == 1')['merchant_id'].nunique())\n",
        "display(act_date.query('ind_frod == 1')['merchant_id'].nunique() / df.shape[0])"
      ],
      "metadata": {
        "colab": {
          "base_uri": "https://localhost:8080/",
          "height": 54
        },
        "outputId": "d4255ca4-ef60-43d6-cd8e-d12f76845eb6",
        "id": "ENLllDrX2LTh"
      },
      "execution_count": null,
      "outputs": [
        {
          "output_type": "display_data",
          "data": {
            "text/plain": [
              "1599"
            ]
          },
          "metadata": {}
        },
        {
          "output_type": "display_data",
          "data": {
            "text/plain": [
              "0.046880497244048316"
            ]
          },
          "metadata": {}
        }
      ]
    },
    {
      "cell_type": "code",
      "source": [
        "#мошенники, которые не сумели пройти регистрацию\n",
        "display(no_act_date.query('ind_frod == 1')['merchant_id'].nunique())\n",
        "display(no_act_date.query('ind_frod == 1')['merchant_id'].nunique() / df.shape[0])"
      ],
      "metadata": {
        "colab": {
          "base_uri": "https://localhost:8080/",
          "height": 54
        },
        "outputId": "dcf3a754-b77b-4bbc-811d-10bb012c3040",
        "id": "rK905oTc2LTj"
      },
      "execution_count": null,
      "outputs": [
        {
          "output_type": "display_data",
          "data": {
            "text/plain": [
              "1211"
            ]
          },
          "metadata": {}
        },
        {
          "output_type": "display_data",
          "data": {
            "text/plain": [
              "0.03550486689339744"
            ]
          },
          "metadata": {}
        }
      ]
    },
    {
      "cell_type": "code",
      "source": [
        "#нормальные продавцы, которые активировались\n",
        "display(act_date.query('ind_frod == 0')['merchant_id'].nunique())\n",
        "display(act_date.query('ind_frod == 0')['merchant_id'].nunique() / df.shape[0])"
      ],
      "metadata": {
        "colab": {
          "base_uri": "https://localhost:8080/",
          "height": 54
        },
        "outputId": "20d472d1-d658-43e6-9b57-71f88436d27e",
        "id": "IO7g3kH22LTj"
      },
      "execution_count": null,
      "outputs": [
        {
          "output_type": "display_data",
          "data": {
            "text/plain": [
              "18198"
            ]
          },
          "metadata": {}
        },
        {
          "output_type": "display_data",
          "data": {
            "text/plain": [
              "0.5335405183534655"
            ]
          },
          "metadata": {}
        }
      ]
    },
    {
      "cell_type": "code",
      "source": [
        "#нормальные продавцы, которые отвалились на этапах регистрации\n",
        "display(no_act_date.query('ind_frod == 0')['merchant_id'].nunique())\n",
        "display(no_act_date.query('ind_frod == 0')['merchant_id'].nunique() / df.shape[0])"
      ],
      "metadata": {
        "colab": {
          "base_uri": "https://localhost:8080/",
          "height": 54
        },
        "outputId": "94aee2d1-4d19-4dbb-af0f-945e7784d473",
        "id": "DU1s-x0O2LTj"
      },
      "execution_count": null,
      "outputs": [
        {
          "output_type": "display_data",
          "data": {
            "text/plain": [
              "13100"
            ]
          },
          "metadata": {}
        },
        {
          "output_type": "display_data",
          "data": {
            "text/plain": [
              "0.38407411750908876"
            ]
          },
          "metadata": {}
        }
      ]
    },
    {
      "cell_type": "markdown",
      "source": [
        "Весь датасет можно разделить на 4 группы:\n",
        "  - мошенники, которые сумели пройти регистрацию (4,7%);\n",
        "  - мошенники, которые не сумели пройти регистрацию (3,6%);\n",
        "  - добросовестные продавцы, которые активировались (53,3%);\n",
        "  - добросовестные продавцы, которые не довели процесс регистрации до конца (38,4%).\n",
        "  \n",
        "  Стоит обратить внимание, что очень болшой процент продавцов не проходит этап регистрации до конца. Это не является темой текущего исследования, но следовало бы пересмотреть процесс и выяснить, где проблемные места и почему так происходит.\n",
        "\n"
      ],
      "metadata": {
        "id": "qXxPFj49JV01"
      }
    },
    {
      "cell_type": "markdown",
      "source": [
        "### **Вывод**"
      ],
      "metadata": {
        "id": "-dDge_28wu-A"
      }
    },
    {
      "cell_type": "markdown",
      "source": [
        "По результатам предварительного анализа можно сделать следующие выводы:\n",
        "  - исходные данные содержат id продавца, информацию о датах регистрации и активации, форму организации бизнеса (ИП или ООО), а также признак мошенника, который проставляется в ходе ручной проверки при регистрации либо уже после поступления жалоб на продавца;\n",
        "  - в датасете находится информация о 35000 продавцах, начавших процедуру регистрации в период 02.01.2023 - 31.12.2023;\n",
        "  - дубликатов нет;\n",
        "  - удалены строки с некорректной (194 строки с неправильно указанными датами, 0,55% датасета) либо не имеющей ценности (700 строк без целевого признака мошенничества. 2% датасета) информацией; оставлено 34 108 строк (97,4% датасета);\n",
        "  - сделаны следующие заключения:\n",
        "    - доля продавцов-мошенников в очищенном датасете - 8,2%. Добросовестных продавцов - 91,8%;\n",
        "    - в среднем в день на платформе регистрируется 96 продавцов, из них 8 мошенников;\n",
        "    - в течение всего 2023 года каждый месяц регистрировалось примерно одно и то же число продавцов (2900-3000), однако число мошенников среди них росло с января (200) по август. В сентябре и ноябре количество мошенников снижалось, но октябрьский и декабрьский показатели совпадают с тем, что было в августе (250); таким образом, за год число мошенников увеличилось с 200 до 250 в месяц;\n",
        "    - определенный день недели не влияет на количество регистрирующихся продавцов в общем, однако среди мошенников несколько более популярны четверг, суббота и особенно пятница;\n",
        "    - средний период от регистрации до активации составляет 6 дней для обеих групп (вообще говоря, для мошенников он получился ниже - 5,9 дней против 6 для не мошенников, но различие оказалось статистически незначимым);\n",
        "    - 72% продавцов оформлены как ИП, 28% - как ООО. Доля ИП среди мошенников существенно выше - 84% против 71% среди добросовестных продавцов\n",
        "    - среди неактивированных клиентов доля мошенников выше на 0,38% (8,46% против 8,08%), однако различие не является статистически значимым;\n",
        "    - весь датасет можно разделить на 4 группы:\n",
        "      - мошенники, которые сумели пройти регистрацию (4,7%);\n",
        "      - мошенники, которые не сумели пройти регистрацию (3,6%);\n",
        "      - добросовестные продавцы, которые активировались (53,3%);\n",
        "      - добросовестные продавцы, которые не довели процесс регистрации до конца (38,4%).\n",
        "      Стоит обратить внимание, что очень большой процент продавцов не проходит этап регистрации до конца. Это не является темой текущего исследования, но следовало бы пересмотреть процесс и выяснить, где возникают проблемные места и почему так происходит.\n"
      ],
      "metadata": {
        "id": "CteHdui_bOp8"
      }
    },
    {
      "cell_type": "markdown",
      "source": [
        "## Ответы на вопросы и дизайн А/В-теста"
      ],
      "metadata": {
        "id": "LMiAfeUtw-2m"
      }
    },
    {
      "cell_type": "markdown",
      "source": [
        "Теперь ответим на вопросы задания.\n"
      ],
      "metadata": {
        "id": "P1WaoSu7w5r9"
      }
    },
    {
      "cell_type": "markdown",
      "source": [
        "### Как определить, какой продавец мошенник, а какой — нет? Какие ещё могут быть схемы мошенничества?"
      ],
      "metadata": {
        "id": "Qh_Zq86YxU9d"
      }
    },
    {
      "cell_type": "markdown",
      "source": [
        "Начнем с описания схем мошенничества на маркетплейсах:\n",
        "\n",
        "  1. **Продажа подделок или неисправных товаров под видом подлинных**.\n",
        "  Мошенник размещает фото и описание оригинальных вещей, а отправляет подделки по цене дорогостоящих товаров. В некоторых случаях покупатель получает даже не дешевый аналог, а мусор, камни и т.п., который подложили в коробку.\n",
        "\n",
        "  2. **Кража аккаунтов покупателей на маркетплейсе**.\n",
        "  Мошенники регистрируются на площадке в качестве продавца и предлагают товар по очень привлекательной цене. После того как покупатель совершит заказ, с ним связывается продавец, и здесь схемы обмана могут варьироваться:\n",
        "    - мошенники связываются с клиентами и сообщают, что оплата не прошла, после чего просят еще раз ввести данные от личного кабинета, но присылают ссылку на фишинговый сайт, который сложно отличить от реального;\n",
        "    - мошенники отправляют рассылку с другими товарами и огромными скидками, а также ссылкой на оплату, по-прежнему ведущей на фишинговый сайт;\n",
        "    - мошенники сообщают, что пункт доставки будет изменен, и предлагает продолжить разговор в мессенджере. Там у покупателя запрашивается код, который придет на смартфон, чтобы подтвердить смену пункта доставки. Более того, код приходит с реального номера маркетплейса, что мешает почувствовать подвох. На самом деле, узнав номер телефона покупателя, мошенники используют его в качестве логина для входа в личный кабинет на маркетплейсе, для чего в реальности и нужен запрошенный код - код подтверждения.\n",
        "    \n",
        "    Таким образом мошенники получают доступ к чужому аккаунту, с помощью которого можно:\n",
        "    - совершить покупки за счет обманутого покупателя;\n",
        "    - подать заявку на возврат денег за заказанный товар, но уже с реквизитами своей карты;\n",
        "    - получить информацию о данных банковских карт, привязанных ко взломанному аккаунту.\n",
        "\n",
        "  3. **Обманные предложения заработать, поучаствовав в \"продвижении\" товара**. Мошенники предлагают купить определенный товар и написать на него отзыв; обещают вернуть затраты и заплатить вознаграждение. Как правило, первые недорогие покупки действительно вознаграждаются, но после оплаты дорогостоящего товара клиент не получает ни его, ни денег.\n",
        "  \n",
        "  В другой похожей схеме покупателю предлагают делать заказы, а затем их отменять, объясняя это тем, что подобная активность якобы увеличивает рейтинг магазина. Оплата производится со специального счета, который принадлежит мошенникам. Покупатель вносит туда постепенно увеличивающиеся денежные суммы, а мошенники позволяют несколько раз отменить заказ и возвращают со счета стоимость товара вместе с небольшим вознаграждением. Как только жертва проникается доверием к схеме, ее просят внести более крупную сумму, после чего все контакты с мошенником обрываются.\n",
        "\n",
        "  В некоторых случаях покупателю, готовому оставлять отзывы за деньги или покупать и возвращать товары, сообщают, что он принят на работу и необходимо зарегистрироваться по ссылке от \"куратора\". Такая ссылка вновь ведет на фишинговый сайт, где клиент оствляет персональную информацию и данные о карте, чтобы получать на нее \"зарплату\". Первое время небольшие суммы даже могут переводиться, но в итоге все сводится к краже денег с карты.\n",
        "\n",
        "  4. **Фальшивая техподдержка**. Мошенники выискивают в соцсетях клиентов, которые оставляют жалобы на работу маркетплейса, в частности на некорректно списанные суммы комиссий. Под видом официальных представителей службы поддержки площадки они свзываются с покупателем и предлагают компенсировать ущерб, вернув на карту излишне удержанные деньги, после чего присылают специальную форму для ввода реквизитов. Форма возврата ведет на поддельную страницу банка, а мошенники получают всю информацию о карте.\n",
        "\n",
        "\n",
        "Задача определения продавцов-мошенников разбивается на два этапа:\n",
        "  - выявить на этапе регистрации и не допустить до продажи товаров;\n",
        "  - выявить среди активированных продавцов.\n",
        "\n",
        "На этапах регистрации флагами могут быть следующие моменты. Часть мошенников регистрируется под названием и ИНН уже существующей компании/ИП, часть - создают фирму-однодневку. В любом случае маркетплейс должны насторожить:\n",
        "  - признаки подделки документов (учредительных, паспорта и пр.), прикрепляемых к заявке на регистрацию;\n",
        "  - запись в ЕГРЮЛ о недействительности ЮЛ/ИП;\n",
        "  - подозрительные контактные данные (некоторые мошенники создают временные электронные адреса, которые самоуничтожаются через определенный промежуток времени. Очевидно, реальный продавец так делать не будет. Таким образом, можно отлавливать мошенников по подозрительному e-mail (@mfyax.com, @gufum.com и др.));\n",
        "  - ряд признаков, характерных для компаний-однодневок (выявляются с помощью сервисов для проверки контрагентов типа СПАРК Интерфакс, Контур.Фокус и др. : минимальный размер уставного капитала, частая смена генеральных директоров, нулевая или не сданная в ФНС отчетность, большое количество кодов ОКВЭД, отсутствие сайта, рекламы, недействительный юридический адрес и т.п.;\n",
        "  - небольшое количество товаров для продажи (может говорить о том, что реальных намерений работать на площадке нет);\n",
        "\n",
        " Если же мошенник усепешно прошел все этапы регистрации и начал работать, привлечь к нему внимание могут следующие факторы:\n",
        "  -  жалобы в поддержку от покупателей на недобросовестные действия Рассматривать метрику лучше и в абсолютном (общее количество), и в относительном выражении (число жалоб по отношению ко всем заказам), ведь у крупных поставщиков неизбежно будет больше ошибок в работе, необязательно вызванных мошенническими действиями;\n",
        "  - негативные отзывы на продавца. Похоже на жалобы, однако стоит иметь в виду, что они могут быть сфальсифицированы, например, конкурентами, чтобы убрать продавца с площадки;\n",
        "  - по различным уловкам продавца связаться с покупателем в обход площадки: ссылки на другие сайты, номера телефонов. аккаунты в мессенджерах и социальных сетях. Это не обязательно будет характеризовать его как мошенника, поскольку многие собирают контакты для своих баз, например, для рассылки рекламы или для других вполне законных целей. Вместе с тем практически все мошеннические схемы начинются с попыток заполучить контактные данные покупателя. Общение в личном кабинете на Мегамаркете не предусмотрено, однако продавец может отвечать на вопросы о товарах, что увидят все покупатели, а также указать информацию при заполнении карточек товаров. Несмотря на то, что на маркетплейсе есть проверка и ответов на вопросы, и карточек, не стоит недооценивать способности мошенников;\n",
        "  - комбинация косвенных признаков, указывающих на мошенничество:\n",
        "    - подозрительно низкая цена, особенно в сочетнии с бонусами;\n",
        "    - недавняя дата регистрации магазина;\n",
        "    - стопроцентная предоплата;\n",
        "    - доставка курьером продавца.\n",
        "  \n",
        "  \n",
        "  \n",
        "  \n",
        "\n",
        "\n",
        "\n",
        "\n"
      ],
      "metadata": {
        "id": "pwFXssU-yLXF"
      }
    },
    {
      "cell_type": "markdown",
      "source": [
        "### Какие продуктовые фичи могут помочь клиентам избежать неприятных ситуаций с мошенничеством?\n",
        "\n",
        "1. **Сигнал покупателям о том, что цена существенно ниже средней**\n",
        "\n",
        "Первая причина, из-за которой пользователи попадаются в ловушку мошенников, - это желание существенно сэкономить. Мошенники предлагают приобрести дорогостоящий товар чуть ли не вдвое дешевле, чем в других магазинах. Для обычных продавцов это очень невыгодно. Если маркетплейс будет сигнализировать покупателю, просматривающему такие предложения, о том, что настолько низкая цена не соответствует рынку и подозрительна, возможно, часть из них не станет рисковать. Информацию о средней цене маркетплейс может агрегировать со своей же площадки либо ориентироваться еще и на другие маркетплейсы.\n",
        "\n",
        "2. **Рейтинг благонадежности от маркетплейса**\n",
        "\n",
        "Наряду с рейтингом от покупателей, который бывает накручен, маркетплейс может по характерным для мошенников признакам выставить и свою взвешенную оценку. В качестве критериев можно использовать косвенные признаки мошенничества, перечисленные в предыдущем разделе: срок работы на площадке, качество заполнения карточек, соответствие продаваемым товарам кодов ОКВЭД, способ доставки, действительность юридического адрес, процент отмены заказов и пр.\n",
        "\n",
        "3. **Оценка достоверности отзывов**\n",
        "\n",
        "Когда пользователь принимает решение о покупке у того или иного продавца, он опирается в том числе и на отзывы других покупателей. Мошенники часто прибегают к публикации фальшивых отзывов о своем товаре, причем для недавно зарегистрированного магазина важно опубликовать большое их количество за короткое время. Несмотря на формальное прохождение модерации, заметно, что многие из них сгенерированы нейросетями. Можно было бы внедрить систему, которая оценивает качество отзывов, учитывает скорость публикации и дает ответ, насколько отзывы достоверны.\n",
        "\n",
        "\n",
        "4. **Создание системы оповещений о мошенничестве**\n",
        "\n",
        "Какими бы надежными ни были способы распознавания мошенников у площадок, конечной целью мошенников является обман конкретного покупателя. И именно от доверчивости и поведения покупателя зависит, попадется он на удочку или нет. На интернет-площадках, в социальных сетях постоянно пишут обманутые пользователи, хотя указанные ими схемы мошенничества могут применяться уже довольно давно. Маркетплейсы могли бы снизить число пострадавших, если бы в превентивных целях чаще и больше распространяли информацию о способах обмана. Это может быть сделано, например, в виде обязательного теста при регистрации покупателя, еженедельных рассылок о новых схемах, мини-игры и пр.\n",
        "\n"
      ],
      "metadata": {
        "id": "lSv5C-UCxhap"
      }
    },
    {
      "cell_type": "markdown",
      "source": [
        "### Через какую механику мошенник узнает контакты покупателя? Что можно сделать, чтобы усложнить жизнь фродерам?\n",
        "\n",
        "Когда покупатель оформляет заказ, продавцу передаются его данные, в том числе и контакты для связи. Даже после отмены заказа информация остается на стороне продавца. Дальше мошенникам обычно не составляет труда найти покупателя в мессенджерах и обратиться к нему за пределами площадки.\n",
        "\n",
        "В том случае, когда заказ был отменен по вине продавца, можно направлять покупателю предупреждение с кратким описанием схемы мошенничества и призывом к осторожности, если за пределами площадки продавец начнет предлагать заказать тот же товар по такой же или еще более низкой цене.\n",
        "\n",
        "Можно блокировать аккаунт продавца до окончания разбирательства, если доля отмененных по вине продавца заказов начинает превышать определенное значение.\n",
        "\n",
        "Встречается и такая схема обмана: продавец присылает покупателю поддельный товар, а чтобы тот не сумел оставить отрицательный отзыв, удаляет карточку товара и создает похожую на нее новую. Поскольку пострадавший может оставить отзыв только на тот товар, который купил, с разоблачением мошенника возникнут сложности. В таких случаях маркетплейс мог бы отслеживать подозрительные активности при смене карточек товара и приостанавливать работу аккаунта до выяснения обстоятельств.\n",
        "\n",
        "Мегамаркет входит в один холдинг со Сбером - крупнейшим банком в России. Многие физические и юридические лица были или являются его клиентами. Таким образом, репутацию некоторых продавцов Мегамаркета можно было бы проверить еще на этапе регистрации. Если продавец совершал сомнительные операции в банке, то это может быть сигналом, что и на маркетплейсе он не будет соблюдать правила.\n",
        "\n",
        "Также в глобальном плане одним из возможных действий по препятствию недобросовестным продавцам может быть создание структуры, которая бы объединяла информацию о мошенниках с разных маркетплейсов, по аналогии с тем, как это сделано в банках: ООО и ИП, несколько раз уличенные в сомнительных операциях, больше не имеют возможности полноценно работать по расчетным счетам ни в одном банке, соблюдающем рекомендации Росфинмониторинга и ЦБ.\n"
      ],
      "metadata": {
        "id": "WRiuEzKexhuA"
      }
    },
    {
      "cell_type": "markdown",
      "source": [
        "### Методология и дизайн теста. Основная метрика и принцип разделения на группы. Расчет MDE"
      ],
      "metadata": {
        "id": "dR6GAqdrxvO8"
      }
    },
    {
      "cell_type": "markdown",
      "source": [
        "Итак, **проблема**, которую обозначает маркетплейс, - это успешная регистрация продавцов-мошенников на площадке. В настоящий момент признак неблагонадежного продавца проставляется в ходе ручной проверки при регистрации либо уже после поступления жалоб на продавца.\n",
        "\n",
        "ML-команда предлагает внедрить в процесс регистрации модель автоматического определения продацов-мошенников. Ее цель - обнаружить максимальное количество фродеров на этапе регистрации.\n",
        "\n",
        "С помощью **А/Б-теста** предлагается проверить качество и функциональность модели.\n",
        "\n",
        "**Гипотеза**, которую будем проверять в ходе теста, заключается в следующем: новая модель снизит количество продавцов-мошенников, которые смогут пройти регистрацию на площадке.\n",
        "\n",
        "В качестве **ключевой метрики** выберем отношение количества продавцов-мошенников, прошедших все этапы регистрации и активировавшихся, к общему количеству активированных продавцов за определенный период.\n",
        "\n",
        "**Барьерной метрикой** будет количество ежедневных регистраций продавцов. Если модель применяет слишком жесткие критерии и часто ошибается, блокируя еще и добросовестных продавцов, они не смогут пройти этап регистрации и уйдут на другие площадки, что приведет к потере выручки и прибыли маркетплейса.\n",
        "\n",
        "За **прокси-метрику** возьмем ежедневную долю жалоб, приходящихся на одного продавца: если новая модель работает эффективно и фильтрует мошенников на этапе регистрации, это в первую очередь скажется на количестве негативных обращений от покупателей.\n",
        "\n",
        "В качестве метода тестирования будем использовать **односторонний Z-тест для двух пропорций**. Для него требуется, чтобы выборки из генеральной совокупности были случайны и независимы (о разделении на группы поговорим далее). Распределение z-статистики стремится к нормальному закону при больших объемах выборок, что позволяет использовать таблицу с критическими значениями стандартного нормального распределения. Для того чтобы принять решение, отвергнуть Н0 или нет, необходимо знать размер выборок, число \"успешных\" исходов в обеих группах (в нашем случае - количество найденных мошенников), а также уровень статистической значимости.\n",
        "\n",
        "В качестве **уровня значимости** и **мощности теста** выберем традиционные значения - 0,05 и 80% соответственно.\n",
        "\n",
        "Основываясь на данных за 2023 год, мы знаем, что в среднем в день регистрируется 96 продавцов, среднее число активаций 53,6, среднее число мошеннических активаций - 4,3 (8%). Разделять новых продавцов необходимо пополам случайным образом на две группы - тестовую и контрольную - так, чтобы выборки были стратифицированы. В нашем случае это означает, что в них соблюдаются максимально возможно близкие пропорции по следующим признакам:\n",
        "  - форма организации бизнеса (ООО или ИП);\n",
        "  - время с момента регистрации бизнеса;\n",
        "  - географический регион.\n",
        "\n",
        "\n",
        "\n"
      ],
      "metadata": {
        "id": "EnuHyMEMT0NP"
      }
    },
    {
      "cell_type": "markdown",
      "source": [
        "Рассчитаем **MDE**. Для этого нам понадобятся уровень значимости, мощность, а также размер выборки.\n",
        "\n",
        "Размер выборки можно определить, имея представление о продолжительности теста. По условию задачи эта информация не дана. Предположим, что у нас есть возможность продолжать тест три недели.\n",
        "\n",
        "Посмотрим на распределение выбранной метрики:\n",
        "\n",
        "\n"
      ],
      "metadata": {
        "id": "m_dyKymhT0R_"
      }
    },
    {
      "cell_type": "code",
      "source": [
        "n_act = act_date.query('activation_date <= \"2023-12-01\"').groupby('activation_date').agg({'merchant_id':'nunique'}).reset_index().rename(columns = {'merchant_id': 'num_total'})\n",
        "n_act_f = act_date.query('activation_date <= \"2023-12-01\" & ind_frod == 1').groupby('activation_date').agg({'merchant_id':'nunique'}).reset_index().rename(columns = {'merchant_id': 'num_fraud'})"
      ],
      "metadata": {
        "id": "YI5IosoPvR19"
      },
      "execution_count": null,
      "outputs": []
    },
    {
      "cell_type": "markdown",
      "source": [
        "График, показывающий динамику общего числа активаций в день и числа активирующихся мошенников:"
      ],
      "metadata": {
        "id": "b-YsaoDMZiEu"
      }
    },
    {
      "cell_type": "code",
      "source": [
        "ax = n_act.plot(x='activation_date', y='num_total', grid=True, figsize=(8,5), label='total')\n",
        "n_act_f.plot(ax=ax, x='activation_date', y='num_fraud', grid=True, figsize=(8,5), label='fraud')\n",
        "plt.xlabel('дата')\n",
        "plt.ylabel('число активаций')\n",
        "plt.show()"
      ],
      "metadata": {
        "colab": {
          "base_uri": "https://localhost:8080/",
          "height": 481
        },
        "outputId": "a1f2df29-cec7-44b0-a1b6-7db8314e3a87",
        "id": "udx4absRvR2I"
      },
      "execution_count": null,
      "outputs": [
        {
          "output_type": "display_data",
          "data": {
            "text/plain": [
              "<Figure size 800x500 with 1 Axes>"
            ],
            "image/png": "[encoded data removed]"
          },
          "metadata": {}
        }
      ]
    },
    {
      "cell_type": "markdown",
      "source": [
        "Среднее и медианное число активирующихся продавцов и мошенников в частности:"
      ],
      "metadata": {
        "id": "_OqlCr7Le0RT"
      }
    },
    {
      "cell_type": "code",
      "source": [
        "n_act['num_total'].agg(['mean','median'])"
      ],
      "metadata": {
        "colab": {
          "base_uri": "https://localhost:8080/"
        },
        "outputId": "d38f960f-c32f-4ad0-f550-87df18e246d9",
        "id": "YgBbIy0evR2J"
      },
      "execution_count": null,
      "outputs": [
        {
          "output_type": "execute_result",
          "data": {
            "text/plain": [
              "mean      53.645646\n",
              "median    54.000000\n",
              "Name: num_total, dtype: float64"
            ]
          },
          "metadata": {},
          "execution_count": 68
        }
      ]
    },
    {
      "cell_type": "code",
      "source": [
        "n_act_f['num_fraud'].agg(['mean','median'])"
      ],
      "metadata": {
        "colab": {
          "base_uri": "https://localhost:8080/"
        },
        "id": "2PKwocN9tBdj",
        "outputId": "bac1b8d4-5df2-4cc8-a77e-07e62d67b146"
      },
      "execution_count": null,
      "outputs": [
        {
          "output_type": "execute_result",
          "data": {
            "text/plain": [
              "mean      4.336391\n",
              "median    4.000000\n",
              "Name: num_fraud, dtype: float64"
            ]
          },
          "metadata": {},
          "execution_count": 69
        }
      ]
    },
    {
      "cell_type": "code",
      "source": [
        "n_act_f['num_fraud'].mean() / n_act['num_total'].mean()"
      ],
      "metadata": {
        "id": "_G6MURHQNgrQ",
        "colab": {
          "base_uri": "https://localhost:8080/"
        },
        "outputId": "772312a2-6e4e-4a36-cea2-6b4c1bb0d066"
      },
      "execution_count": null,
      "outputs": [
        {
          "output_type": "execute_result",
          "data": {
            "text/plain": [
              "0.0808339872718234"
            ]
          },
          "metadata": {},
          "execution_count": 70
        }
      ]
    },
    {
      "cell_type": "code",
      "source": [
        "act_by_date = n_act.merge(n_act_f, on='activation_date')\n",
        "act_by_date['fraud_share'] = act_by_date['num_fraud'] / act_by_date['num_total']"
      ],
      "metadata": {
        "id": "EYeHf9que2ig"
      },
      "execution_count": null,
      "outputs": []
    },
    {
      "cell_type": "markdown",
      "source": [
        "График и статистики ключевой метрики:"
      ],
      "metadata": {
        "id": "iXe7Nx6nfZl4"
      }
    },
    {
      "cell_type": "code",
      "source": [
        "act_by_date.plot(x='activation_date', y='fraud_share', ylim=(0,0.4), grid=True, figsize=(10,5), legend=False)\n",
        "plt.xlabel('дата')\n",
        "plt.ylabel('доля мошеннических активаций')\n",
        "plt.show()"
      ],
      "metadata": {
        "colab": {
          "base_uri": "https://localhost:8080/",
          "height": 452
        },
        "id": "wpSFXuy5Z2xp",
        "outputId": "ad20f926-6780-4210-82cb-1f0da77bf992"
      },
      "execution_count": null,
      "outputs": [
        {
          "output_type": "display_data",
          "data": {
            "text/plain": [
              "<Figure size 1000x500 with 1 Axes>"
            ],
            "image/png": "[encoded data removed]"
          },
          "metadata": {}
        }
      ]
    },
    {
      "cell_type": "code",
      "source": [
        "act_by_date['fraud_share'].describe()"
      ],
      "metadata": {
        "id": "PyUUoZnPe2mr",
        "colab": {
          "base_uri": "https://localhost:8080/"
        },
        "outputId": "1462de3a-94cc-4b1f-baa7-7a11bc29af4a"
      },
      "execution_count": null,
      "outputs": [
        {
          "output_type": "execute_result",
          "data": {
            "text/plain": [
              "count    327.000000\n",
              "mean       0.080693\n",
              "std        0.037181\n",
              "min        0.015625\n",
              "25%        0.052632\n",
              "50%        0.079365\n",
              "75%        0.102041\n",
              "max        0.222222\n",
              "Name: fraud_share, dtype: float64"
            ]
          },
          "metadata": {},
          "execution_count": 73
        }
      ]
    },
    {
      "cell_type": "markdown",
      "source": [
        "Рассчитаем MDE.\n",
        "\n",
        "Размер выборок известен: 54 * 21 / 2 = 567 продавцов. Среднее значение и стандартное отклонение выбранной метрики составляют 0,08 и 0,03 соответственно. Z-значения для заданных alpha и beta также определяются.\n",
        "Получаем, что MDE = 0,068 = 6,8%."
      ],
      "metadata": {
        "id": "kJaHcA-1csro"
      }
    },
    {
      "cell_type": "code",
      "source": [
        "std = act_by_date['fraud_share'].std()\n",
        "m = act_by_date['fraud_share'].mean()\n",
        "alpha = 0.05\n",
        "beta = 0.8\n",
        "n = 567\n",
        "z1 = stats.norm.ppf(1 - alpha)\n",
        "z2 = stats.norm.ppf(1 - beta)\n",
        "mde = mth.sqrt(2) * std * (z1 - z2) / (m * mth.sqrt(n))"
      ],
      "metadata": {
        "id": "YFOX5tKsZQOc"
      },
      "execution_count": null,
      "outputs": []
    },
    {
      "cell_type": "code",
      "source": [
        "mde"
      ],
      "metadata": {
        "colab": {
          "base_uri": "https://localhost:8080/"
        },
        "id": "C4qc--YHgFLX",
        "outputId": "de4b5da8-ba7f-4c2c-ac82-31df48d81417"
      },
      "execution_count": null,
      "outputs": [
        {
          "output_type": "execute_result",
          "data": {
            "text/plain": [
              "0.06804404849178713"
            ]
          },
          "metadata": {},
          "execution_count": 75
        }
      ]
    }
  ]
}